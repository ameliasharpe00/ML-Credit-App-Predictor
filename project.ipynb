{
  "cells": [
    {
      "cell_type": "markdown",
      "source": [
        "# **CIS 545 Final Project: Predicting Debt Status using Credit History Datasets**\n",
        "## Group Members: Amelia Sharpe, Sadek Munawar, Sheon Mwapinza\n",
        "The goal of this project is to use and compare three Machine Learning (ML) models to predict the debt status of a person based on different factors such as whether or not they own a car, realty, or number of children in their household"
      ],
      "metadata": {
        "id": "988wk8C2lWPi"
      }
    },
    {
      "cell_type": "markdown",
      "source": [
        "# **INTRODUCTION**\n",
        "Having read multiple articles that highlight the extent of [bias](https://www.brookings.edu/research/algorithmic-bias-detection-and-mitigation-best-practices-and-policies-to-reduce-consumer-harms/) in ML models, we decided to use this project as an opportunity to investigate this issue. According to MIT researcher Joy Buolamwini, facial recognition training datasets are [estimated](https://www.brookings.edu/research/algorithmic-bias-detection-and-mitigation-best-practices-and-policies-to-reduce-consumer-harms/) to be more than 75% male and more than 80% white. Having learnt that the accuracy of a Machine Learning model depends not only on the model but also the training dataset, we were motivated to analyze [two large kaggle datasets](https://www.kaggle.com/datasets/rikdifos/credit-card-approval-prediction/discussion/119320) on Credit Card applicants to see how accurate Machine Learning models can be and how to improve accuracy of predictions. We employed three of the most common Machine Learning Models to predict the debt status of a credit-card applicant: Linear Regressions, Logistic Regressions, and Random Forests. To analyze the datasets, we used some of Python's most common libraries such as Pandas, Scikit-learn as well as Apache Spark."
      ],
      "metadata": {
        "id": "ynuCWzxwQvfz"
      }
    },
    {
      "cell_type": "markdown",
      "metadata": {
        "id": "ETZ9CDIDLYHp"
      },
      "source": [
        "# **Step 1: Code Environment Setup**"
      ]
    },
    {
      "cell_type": "markdown",
      "source": [
        "### **Step 1.1: Import all relevant libraries, java installs and other files**"
      ],
      "metadata": {
        "id": "BkJRvSncu0Wd"
      }
    },
    {
      "cell_type": "code",
      "metadata": {
        "id": "KLatjcDhLUIy",
        "colab": {
          "base_uri": "https://localhost:8080/"
        },
        "outputId": "cb16d6ba-2d80-44c4-f07d-df21d17bda20"
      },
      "source": [
        "! sudo apt install openjdk-8-jdk\n",
        "! sudo update-alternatives --config java"
      ],
      "execution_count": null,
      "outputs": [
        {
          "output_type": "stream",
          "name": "stdout",
          "text": [
            "Reading package lists... Done\n",
            "Building dependency tree       \n",
            "Reading state information... Done\n",
            "openjdk-8-jdk is already the newest version (8u312-b07-0ubuntu1~18.04).\n",
            "The following packages were automatically installed and are no longer required:\n",
            "  libnvidia-common-460 nsight-compute-2020.2.0\n",
            "Use 'sudo apt autoremove' to remove them.\n",
            "0 upgraded, 0 newly installed, 0 to remove and 51 not upgraded.\n",
            "There are 2 choices for the alternative java (providing /usr/bin/java).\n",
            "\n",
            "  Selection    Path                                            Priority   Status\n",
            "------------------------------------------------------------\n",
            "  0            /usr/lib/jvm/java-11-openjdk-amd64/bin/java      1111      auto mode\n",
            "  1            /usr/lib/jvm/java-11-openjdk-amd64/bin/java      1111      manual mode\n",
            "* 2            /usr/lib/jvm/java-8-openjdk-amd64/jre/bin/java   1081      manual mode\n",
            "\n",
            "Press <enter> to keep the current choice[*], or type selection number: 2\n"
          ]
        }
      ]
    },
    {
      "cell_type": "code",
      "source": [
        "# Versioning again\n",
        "!pip install pandas==1.1.5"
      ],
      "metadata": {
        "id": "miNed7QP9op_",
        "colab": {
          "base_uri": "https://localhost:8080/"
        },
        "outputId": "eb7cfa54-1537-4027-e33b-482aad8ddcf9"
      },
      "execution_count": null,
      "outputs": [
        {
          "output_type": "stream",
          "name": "stdout",
          "text": [
            "Requirement already satisfied: pandas==1.1.5 in /usr/local/lib/python3.7/dist-packages (1.1.5)\n",
            "Requirement already satisfied: numpy>=1.15.4 in /usr/local/lib/python3.7/dist-packages (from pandas==1.1.5) (1.21.6)\n",
            "Requirement already satisfied: python-dateutil>=2.7.3 in /usr/local/lib/python3.7/dist-packages (from pandas==1.1.5) (2.8.2)\n",
            "Requirement already satisfied: pytz>=2017.2 in /usr/local/lib/python3.7/dist-packages (from pandas==1.1.5) (2022.1)\n",
            "Requirement already satisfied: six>=1.5 in /usr/local/lib/python3.7/dist-packages (from python-dateutil>=2.7.3->pandas==1.1.5) (1.15.0)\n"
          ]
        }
      ]
    },
    {
      "cell_type": "code",
      "metadata": {
        "id": "TBTaESEdMmiU"
      },
      "source": [
        "# Sklearn and Pandas Setup\n",
        "import json\n",
        "import glob\n",
        "import pandas as pd\n",
        "import numpy as np\n",
        "import datetime as dt\n",
        "import re\n",
        "import os\n",
        "import matplotlib.pyplot as plt\n",
        "import seaborn as sns\n",
        "from matplotlib import cm\n",
        "from google.colab import drive\n",
        "from sklearn.preprocessing import LabelEncoder"
      ],
      "execution_count": null,
      "outputs": []
    },
    {
      "cell_type": "code",
      "metadata": {
        "id": "tA6oTIZtRjf7",
        "colab": {
          "base_uri": "https://localhost:8080/"
        },
        "outputId": "5ea37272-7336-4dbb-f233-7fb28c469424"
      },
      "source": [
        "!apt update\n",
        "!apt install gcc python-dev libkrb5-dev"
      ],
      "execution_count": null,
      "outputs": [
        {
          "output_type": "stream",
          "name": "stdout",
          "text": [
            "\u001b[33m\r0% [Working]\u001b[0m\r            \rHit:1 https://developer.download.nvidia.com/compute/cuda/repos/ubuntu1804/x86_64  InRelease\n",
            "Hit:2 https://cloud.r-project.org/bin/linux/ubuntu bionic-cran40/ InRelease\n",
            "Ign:3 https://developer.download.nvidia.com/compute/machine-learning/repos/ubuntu1804/x86_64  InRelease\n",
            "Hit:4 https://developer.download.nvidia.com/compute/machine-learning/repos/ubuntu1804/x86_64  Release\n",
            "Hit:5 http://archive.ubuntu.com/ubuntu bionic InRelease\n",
            "Hit:6 http://ppa.launchpad.net/c2d4u.team/c2d4u4.0+/ubuntu bionic InRelease\n",
            "Hit:7 http://security.ubuntu.com/ubuntu bionic-security InRelease\n",
            "Hit:8 http://archive.ubuntu.com/ubuntu bionic-updates InRelease\n",
            "Hit:9 http://archive.ubuntu.com/ubuntu bionic-backports InRelease\n",
            "Hit:10 http://ppa.launchpad.net/cran/libgit2/ubuntu bionic InRelease\n",
            "Hit:11 http://ppa.launchpad.net/deadsnakes/ppa/ubuntu bionic InRelease\n",
            "Hit:13 http://ppa.launchpad.net/graphics-drivers/ppa/ubuntu bionic InRelease\n",
            "Reading package lists... Done\n",
            "Building dependency tree       \n",
            "Reading state information... Done\n",
            "51 packages can be upgraded. Run 'apt list --upgradable' to see them.\n",
            "Reading package lists... Done\n",
            "Building dependency tree       \n",
            "Reading state information... Done\n",
            "python-dev is already the newest version (2.7.15~rc1-1).\n",
            "gcc is already the newest version (4:7.4.0-1ubuntu2.3).\n",
            "libkrb5-dev is already the newest version (1.16-2ubuntu0.2).\n",
            "The following packages were automatically installed and are no longer required:\n",
            "  libnvidia-common-460 nsight-compute-2020.2.0\n",
            "Use 'apt autoremove' to remove them.\n",
            "0 upgraded, 0 newly installed, 0 to remove and 51 not upgraded.\n"
          ]
        }
      ]
    },
    {
      "cell_type": "markdown",
      "source": [
        "### **Step 1.2: Apache Spark Setup for ML**"
      ],
      "metadata": {
        "id": "fkhXdbFwqC-2"
      }
    },
    {
      "cell_type": "code",
      "source": [
        "!apt install libkrb5-dev\n",
        "!wget https://downloads.apache.org/spark/spark-3.1.2/spark-3.1.2-bin-hadoop3.2.tgz\n",
        "!tar xf spark-3.1.2-bin-hadoop3.2.tgz\n",
        "!pip install findspark\n",
        "!pip install sparkmagic\n",
        "!pip install pyspark\n",
        "! pip install pyspark --user\n",
        "! pip install seaborn --user\n",
        "! pip install plotly --user\n",
        "! pip install imageio --user\n",
        "! pip install folium --user"
      ],
      "metadata": {
        "id": "AtR2QWmLe8ws",
        "colab": {
          "base_uri": "https://localhost:8080/"
        },
        "outputId": "ea0082c4-c157-468a-b257-016054aba4d7"
      },
      "execution_count": null,
      "outputs": [
        {
          "output_type": "stream",
          "name": "stdout",
          "text": [
            "Reading package lists... Done\n",
            "Building dependency tree       \n",
            "Reading state information... Done\n",
            "libkrb5-dev is already the newest version (1.16-2ubuntu0.2).\n",
            "The following packages were automatically installed and are no longer required:\n",
            "  libnvidia-common-460 nsight-compute-2020.2.0\n",
            "Use 'apt autoremove' to remove them.\n",
            "0 upgraded, 0 newly installed, 0 to remove and 51 not upgraded.\n",
            "--2022-05-02 15:35:40--  https://downloads.apache.org/spark/spark-3.1.2/spark-3.1.2-bin-hadoop3.2.tgz\n",
            "Resolving downloads.apache.org (downloads.apache.org)... 135.181.214.104, 88.99.95.219, 2a01:4f9:3a:2c57::2, ...\n",
            "Connecting to downloads.apache.org (downloads.apache.org)|135.181.214.104|:443... connected.\n",
            "HTTP request sent, awaiting response... 200 OK\n",
            "Length: 228834641 (218M) [application/x-gzip]\n",
            "Saving to: ‘spark-3.1.2-bin-hadoop3.2.tgz.1’\n",
            "\n",
            "spark-3.1.2-bin-had 100%[===================>] 218.23M  22.6MB/s    in 11s     \n",
            "\n",
            "2022-05-02 15:35:51 (20.8 MB/s) - ‘spark-3.1.2-bin-hadoop3.2.tgz.1’ saved [228834641/228834641]\n",
            "\n",
            "Requirement already satisfied: findspark in /usr/local/lib/python3.7/dist-packages (2.0.1)\n",
            "Requirement already satisfied: sparkmagic in /usr/local/lib/python3.7/dist-packages (0.19.2)\n",
            "Requirement already satisfied: numpy in /usr/local/lib/python3.7/dist-packages (from sparkmagic) (1.21.6)\n",
            "Requirement already satisfied: ipykernel<6.0.0 in /usr/local/lib/python3.7/dist-packages (from sparkmagic) (4.10.1)\n",
            "Requirement already satisfied: requests-kerberos>=0.8.0 in /usr/local/lib/python3.7/dist-packages (from sparkmagic) (0.14.0)\n",
            "Requirement already satisfied: ipython>=4.0.2 in /usr/local/lib/python3.7/dist-packages (from sparkmagic) (5.5.0)\n",
            "Requirement already satisfied: hdijupyterutils>=0.6 in /usr/local/lib/python3.7/dist-packages (from sparkmagic) (0.19.2)\n",
            "Requirement already satisfied: requests in /usr/local/lib/python3.7/dist-packages (from sparkmagic) (2.23.0)\n",
            "Requirement already satisfied: pandas>=0.17.1 in /usr/local/lib/python3.7/dist-packages (from sparkmagic) (1.1.5)\n",
            "Requirement already satisfied: autovizwidget>=0.6 in /usr/local/lib/python3.7/dist-packages (from sparkmagic) (0.19.2)\n",
            "Requirement already satisfied: mock in /usr/local/lib/python3.7/dist-packages (from sparkmagic) (4.0.3)\n",
            "Requirement already satisfied: tornado>=4 in /usr/local/lib/python3.7/dist-packages (from sparkmagic) (5.1.1)\n",
            "Requirement already satisfied: nose in /usr/local/lib/python3.7/dist-packages (from sparkmagic) (1.3.7)\n",
            "Requirement already satisfied: notebook>=4.2 in /usr/local/lib/python3.7/dist-packages (from sparkmagic) (5.3.1)\n",
            "Requirement already satisfied: ipywidgets>5.0.0 in /usr/local/lib/python3.7/dist-packages (from sparkmagic) (7.7.0)\n",
            "Requirement already satisfied: plotly>=3 in /usr/local/lib/python3.7/dist-packages (from autovizwidget>=0.6->sparkmagic) (5.5.0)\n",
            "Requirement already satisfied: jupyter>=1 in /usr/local/lib/python3.7/dist-packages (from hdijupyterutils>=0.6->sparkmagic) (1.0.0)\n",
            "Requirement already satisfied: traitlets>=4.1.0 in /usr/local/lib/python3.7/dist-packages (from ipykernel<6.0.0->sparkmagic) (5.1.1)\n",
            "Requirement already satisfied: jupyter-client in /usr/local/lib/python3.7/dist-packages (from ipykernel<6.0.0->sparkmagic) (5.3.5)\n",
            "Requirement already satisfied: pickleshare in /usr/local/lib/python3.7/dist-packages (from ipython>=4.0.2->sparkmagic) (0.7.5)\n",
            "Requirement already satisfied: pygments in /usr/local/lib/python3.7/dist-packages (from ipython>=4.0.2->sparkmagic) (2.6.1)\n",
            "Requirement already satisfied: simplegeneric>0.8 in /usr/local/lib/python3.7/dist-packages (from ipython>=4.0.2->sparkmagic) (0.8.1)\n",
            "Requirement already satisfied: setuptools>=18.5 in /usr/local/lib/python3.7/dist-packages (from ipython>=4.0.2->sparkmagic) (57.4.0)\n",
            "Requirement already satisfied: pexpect in /usr/local/lib/python3.7/dist-packages (from ipython>=4.0.2->sparkmagic) (4.8.0)\n",
            "Requirement already satisfied: decorator in /usr/local/lib/python3.7/dist-packages (from ipython>=4.0.2->sparkmagic) (4.4.2)\n",
            "Requirement already satisfied: prompt-toolkit<2.0.0,>=1.0.4 in /usr/local/lib/python3.7/dist-packages (from ipython>=4.0.2->sparkmagic) (1.0.18)\n",
            "Requirement already satisfied: nbformat>=4.2.0 in /usr/local/lib/python3.7/dist-packages (from ipywidgets>5.0.0->sparkmagic) (5.3.0)\n",
            "Requirement already satisfied: widgetsnbextension~=3.6.0 in /usr/local/lib/python3.7/dist-packages (from ipywidgets>5.0.0->sparkmagic) (3.6.0)\n",
            "Requirement already satisfied: jupyterlab-widgets>=1.0.0 in /usr/local/lib/python3.7/dist-packages (from ipywidgets>5.0.0->sparkmagic) (1.1.0)\n",
            "Requirement already satisfied: ipython-genutils~=0.2.0 in /usr/local/lib/python3.7/dist-packages (from ipywidgets>5.0.0->sparkmagic) (0.2.0)\n",
            "Requirement already satisfied: jupyter-console in /usr/local/lib/python3.7/dist-packages (from jupyter>=1->hdijupyterutils>=0.6->sparkmagic) (5.2.0)\n",
            "Requirement already satisfied: nbconvert in /usr/local/lib/python3.7/dist-packages (from jupyter>=1->hdijupyterutils>=0.6->sparkmagic) (5.6.1)\n",
            "Requirement already satisfied: qtconsole in /usr/local/lib/python3.7/dist-packages (from jupyter>=1->hdijupyterutils>=0.6->sparkmagic) (5.3.0)\n",
            "Requirement already satisfied: fastjsonschema in /usr/local/lib/python3.7/dist-packages (from nbformat>=4.2.0->ipywidgets>5.0.0->sparkmagic) (2.15.3)\n",
            "Requirement already satisfied: jsonschema>=2.6 in /usr/local/lib/python3.7/dist-packages (from nbformat>=4.2.0->ipywidgets>5.0.0->sparkmagic) (4.3.3)\n",
            "Requirement already satisfied: jupyter-core in /usr/local/lib/python3.7/dist-packages (from nbformat>=4.2.0->ipywidgets>5.0.0->sparkmagic) (4.10.0)\n",
            "Requirement already satisfied: pyrsistent!=0.17.0,!=0.17.1,!=0.17.2,>=0.14.0 in /usr/local/lib/python3.7/dist-packages (from jsonschema>=2.6->nbformat>=4.2.0->ipywidgets>5.0.0->sparkmagic) (0.18.1)\n",
            "Requirement already satisfied: importlib-resources>=1.4.0 in /usr/local/lib/python3.7/dist-packages (from jsonschema>=2.6->nbformat>=4.2.0->ipywidgets>5.0.0->sparkmagic) (5.7.1)\n",
            "Requirement already satisfied: importlib-metadata in /usr/local/lib/python3.7/dist-packages (from jsonschema>=2.6->nbformat>=4.2.0->ipywidgets>5.0.0->sparkmagic) (4.11.3)\n",
            "Requirement already satisfied: typing-extensions in /usr/local/lib/python3.7/dist-packages (from jsonschema>=2.6->nbformat>=4.2.0->ipywidgets>5.0.0->sparkmagic) (4.2.0)\n",
            "Requirement already satisfied: attrs>=17.4.0 in /usr/local/lib/python3.7/dist-packages (from jsonschema>=2.6->nbformat>=4.2.0->ipywidgets>5.0.0->sparkmagic) (21.4.0)\n",
            "Requirement already satisfied: zipp>=3.1.0 in /usr/local/lib/python3.7/dist-packages (from importlib-resources>=1.4.0->jsonschema>=2.6->nbformat>=4.2.0->ipywidgets>5.0.0->sparkmagic) (3.8.0)\n",
            "Requirement already satisfied: jinja2 in /usr/local/lib/python3.7/dist-packages (from notebook>=4.2->sparkmagic) (2.11.3)\n",
            "Requirement already satisfied: terminado>=0.8.1 in /usr/local/lib/python3.7/dist-packages (from notebook>=4.2->sparkmagic) (0.13.3)\n",
            "Requirement already satisfied: Send2Trash in /usr/local/lib/python3.7/dist-packages (from notebook>=4.2->sparkmagic) (1.8.0)\n",
            "Requirement already satisfied: pyzmq>=13 in /usr/local/lib/python3.7/dist-packages (from jupyter-client->ipykernel<6.0.0->sparkmagic) (22.3.0)\n",
            "Requirement already satisfied: python-dateutil>=2.1 in /usr/local/lib/python3.7/dist-packages (from jupyter-client->ipykernel<6.0.0->sparkmagic) (2.8.2)\n",
            "Requirement already satisfied: pytz>=2017.2 in /usr/local/lib/python3.7/dist-packages (from pandas>=0.17.1->sparkmagic) (2022.1)\n",
            "Requirement already satisfied: tenacity>=6.2.0 in /usr/local/lib/python3.7/dist-packages (from plotly>=3->autovizwidget>=0.6->sparkmagic) (8.0.1)\n",
            "Requirement already satisfied: six in /usr/local/lib/python3.7/dist-packages (from plotly>=3->autovizwidget>=0.6->sparkmagic) (1.15.0)\n",
            "Requirement already satisfied: wcwidth in /usr/local/lib/python3.7/dist-packages (from prompt-toolkit<2.0.0,>=1.0.4->ipython>=4.0.2->sparkmagic) (0.2.5)\n",
            "Requirement already satisfied: pyspnego[kerberos] in /usr/local/lib/python3.7/dist-packages (from requests-kerberos>=0.8.0->sparkmagic) (0.5.2)\n",
            "Requirement already satisfied: cryptography>=1.3 in /usr/local/lib/python3.7/dist-packages (from requests-kerberos>=0.8.0->sparkmagic) (37.0.1)\n",
            "Requirement already satisfied: cffi>=1.12 in /usr/local/lib/python3.7/dist-packages (from cryptography>=1.3->requests-kerberos>=0.8.0->sparkmagic) (1.15.0)\n",
            "Requirement already satisfied: pycparser in /usr/local/lib/python3.7/dist-packages (from cffi>=1.12->cryptography>=1.3->requests-kerberos>=0.8.0->sparkmagic) (2.21)\n",
            "Requirement already satisfied: chardet<4,>=3.0.2 in /usr/local/lib/python3.7/dist-packages (from requests->sparkmagic) (3.0.4)\n",
            "Requirement already satisfied: certifi>=2017.4.17 in /usr/local/lib/python3.7/dist-packages (from requests->sparkmagic) (2021.10.8)\n",
            "Requirement already satisfied: urllib3!=1.25.0,!=1.25.1,<1.26,>=1.21.1 in /usr/local/lib/python3.7/dist-packages (from requests->sparkmagic) (1.24.3)\n",
            "Requirement already satisfied: idna<3,>=2.5 in /usr/local/lib/python3.7/dist-packages (from requests->sparkmagic) (2.10)\n",
            "Requirement already satisfied: ptyprocess in /usr/local/lib/python3.7/dist-packages (from terminado>=0.8.1->notebook>=4.2->sparkmagic) (0.7.0)\n",
            "Requirement already satisfied: MarkupSafe>=0.23 in /usr/local/lib/python3.7/dist-packages (from jinja2->notebook>=4.2->sparkmagic) (2.0.1)\n",
            "Requirement already satisfied: pandocfilters>=1.4.1 in /usr/local/lib/python3.7/dist-packages (from nbconvert->jupyter>=1->hdijupyterutils>=0.6->sparkmagic) (1.5.0)\n",
            "Requirement already satisfied: entrypoints>=0.2.2 in /usr/local/lib/python3.7/dist-packages (from nbconvert->jupyter>=1->hdijupyterutils>=0.6->sparkmagic) (0.4)\n",
            "Requirement already satisfied: bleach in /usr/local/lib/python3.7/dist-packages (from nbconvert->jupyter>=1->hdijupyterutils>=0.6->sparkmagic) (5.0.0)\n",
            "Requirement already satisfied: testpath in /usr/local/lib/python3.7/dist-packages (from nbconvert->jupyter>=1->hdijupyterutils>=0.6->sparkmagic) (0.6.0)\n",
            "Requirement already satisfied: defusedxml in /usr/local/lib/python3.7/dist-packages (from nbconvert->jupyter>=1->hdijupyterutils>=0.6->sparkmagic) (0.7.1)\n",
            "Requirement already satisfied: mistune<2,>=0.8.1 in /usr/local/lib/python3.7/dist-packages (from nbconvert->jupyter>=1->hdijupyterutils>=0.6->sparkmagic) (0.8.4)\n",
            "Requirement already satisfied: webencodings in /usr/local/lib/python3.7/dist-packages (from bleach->nbconvert->jupyter>=1->hdijupyterutils>=0.6->sparkmagic) (0.5.1)\n",
            "Requirement already satisfied: krb5>=0.3.0 in /usr/local/lib/python3.7/dist-packages (from pyspnego[kerberos]->requests-kerberos>=0.8.0->sparkmagic) (0.3.0)\n",
            "Requirement already satisfied: gssapi>=1.5.0 in /usr/local/lib/python3.7/dist-packages (from pyspnego[kerberos]->requests-kerberos>=0.8.0->sparkmagic) (1.7.3)\n",
            "Requirement already satisfied: qtpy>=2.0.1 in /usr/local/lib/python3.7/dist-packages (from qtconsole->jupyter>=1->hdijupyterutils>=0.6->sparkmagic) (2.0.1)\n",
            "Requirement already satisfied: packaging in /usr/local/lib/python3.7/dist-packages (from qtpy>=2.0.1->qtconsole->jupyter>=1->hdijupyterutils>=0.6->sparkmagic) (21.3)\n",
            "Requirement already satisfied: pyparsing!=3.0.5,>=2.0.2 in /usr/local/lib/python3.7/dist-packages (from packaging->qtpy>=2.0.1->qtconsole->jupyter>=1->hdijupyterutils>=0.6->sparkmagic) (3.0.8)\n",
            "Requirement already satisfied: pyspark in /usr/local/lib/python3.7/dist-packages (3.2.1)\n",
            "Requirement already satisfied: py4j==0.10.9.3 in /usr/local/lib/python3.7/dist-packages (from pyspark) (0.10.9.3)\n",
            "Requirement already satisfied: pyspark in /usr/local/lib/python3.7/dist-packages (3.2.1)\n",
            "Requirement already satisfied: py4j==0.10.9.3 in /usr/local/lib/python3.7/dist-packages (from pyspark) (0.10.9.3)\n",
            "Requirement already satisfied: seaborn in /usr/local/lib/python3.7/dist-packages (0.11.2)\n",
            "Requirement already satisfied: pandas>=0.23 in /usr/local/lib/python3.7/dist-packages (from seaborn) (1.1.5)\n",
            "Requirement already satisfied: scipy>=1.0 in /usr/local/lib/python3.7/dist-packages (from seaborn) (1.4.1)\n",
            "Requirement already satisfied: matplotlib>=2.2 in /usr/local/lib/python3.7/dist-packages (from seaborn) (3.2.2)\n",
            "Requirement already satisfied: numpy>=1.15 in /usr/local/lib/python3.7/dist-packages (from seaborn) (1.21.6)\n",
            "Requirement already satisfied: cycler>=0.10 in /usr/local/lib/python3.7/dist-packages (from matplotlib>=2.2->seaborn) (0.11.0)\n",
            "Requirement already satisfied: python-dateutil>=2.1 in /usr/local/lib/python3.7/dist-packages (from matplotlib>=2.2->seaborn) (2.8.2)\n",
            "Requirement already satisfied: pyparsing!=2.0.4,!=2.1.2,!=2.1.6,>=2.0.1 in /usr/local/lib/python3.7/dist-packages (from matplotlib>=2.2->seaborn) (3.0.8)\n",
            "Requirement already satisfied: kiwisolver>=1.0.1 in /usr/local/lib/python3.7/dist-packages (from matplotlib>=2.2->seaborn) (1.4.2)\n",
            "Requirement already satisfied: typing-extensions in /usr/local/lib/python3.7/dist-packages (from kiwisolver>=1.0.1->matplotlib>=2.2->seaborn) (4.2.0)\n",
            "Requirement already satisfied: pytz>=2017.2 in /usr/local/lib/python3.7/dist-packages (from pandas>=0.23->seaborn) (2022.1)\n",
            "Requirement already satisfied: six>=1.5 in /usr/local/lib/python3.7/dist-packages (from python-dateutil>=2.1->matplotlib>=2.2->seaborn) (1.15.0)\n",
            "Requirement already satisfied: plotly in /usr/local/lib/python3.7/dist-packages (5.5.0)\n",
            "Requirement already satisfied: six in /usr/local/lib/python3.7/dist-packages (from plotly) (1.15.0)\n",
            "Requirement already satisfied: tenacity>=6.2.0 in /usr/local/lib/python3.7/dist-packages (from plotly) (8.0.1)\n",
            "Requirement already satisfied: imageio in /usr/local/lib/python3.7/dist-packages (2.4.1)\n",
            "Requirement already satisfied: numpy in /usr/local/lib/python3.7/dist-packages (from imageio) (1.21.6)\n",
            "Requirement already satisfied: pillow in /usr/local/lib/python3.7/dist-packages (from imageio) (7.1.2)\n",
            "Requirement already satisfied: folium in /usr/local/lib/python3.7/dist-packages (0.8.3)\n",
            "Requirement already satisfied: numpy in /usr/local/lib/python3.7/dist-packages (from folium) (1.21.6)\n",
            "Requirement already satisfied: requests in /usr/local/lib/python3.7/dist-packages (from folium) (2.23.0)\n",
            "Requirement already satisfied: jinja2 in /usr/local/lib/python3.7/dist-packages (from folium) (2.11.3)\n",
            "Requirement already satisfied: six in /usr/local/lib/python3.7/dist-packages (from folium) (1.15.0)\n",
            "Requirement already satisfied: branca>=0.3.0 in /usr/local/lib/python3.7/dist-packages (from folium) (0.5.0)\n",
            "Requirement already satisfied: MarkupSafe>=0.23 in /usr/local/lib/python3.7/dist-packages (from jinja2->folium) (2.0.1)\n",
            "Requirement already satisfied: urllib3!=1.25.0,!=1.25.1,<1.26,>=1.21.1 in /usr/local/lib/python3.7/dist-packages (from requests->folium) (1.24.3)\n",
            "Requirement already satisfied: chardet<4,>=3.0.2 in /usr/local/lib/python3.7/dist-packages (from requests->folium) (3.0.4)\n",
            "Requirement already satisfied: certifi>=2017.4.17 in /usr/local/lib/python3.7/dist-packages (from requests->folium) (2021.10.8)\n",
            "Requirement already satisfied: idna<3,>=2.5 in /usr/local/lib/python3.7/dist-packages (from requests->folium) (2.10)\n"
          ]
        }
      ]
    },
    {
      "cell_type": "code",
      "source": [
        "from pyspark.sql import SparkSession\n",
        "from pyspark.sql.types import *\n",
        "import pyspark.sql.functions as F\n",
        "\n",
        "import os\n",
        "\n",
        "spark = SparkSession.builder.appName('proj').getOrCreate()"
      ],
      "metadata": {
        "id": "Vsq0iyoge-PU"
      },
      "execution_count": null,
      "outputs": []
    },
    {
      "cell_type": "code",
      "source": [
        "%load_ext sparkmagic.magics"
      ],
      "metadata": {
        "id": "7_hUaF5nfFv6"
      },
      "execution_count": null,
      "outputs": []
    },
    {
      "cell_type": "code",
      "source": [
        "# Graph section\n",
        "import networkx as nx\n",
        "# SQLite RDBMS\n",
        "import sqlite3\n",
        "# Parallel processing\n",
        "# import swifter\n",
        "import pandas as pd\n",
        "# NoSQL DB\n",
        "from pymongo import MongoClient\n",
        "from pymongo.errors import DuplicateKeyError, OperationFailure\n",
        "\n",
        "import os\n",
        "os.environ['SPARK_HOME'] = '/content/spark-3.1.2-bin-hadoop3.2'\n",
        "os.environ[\"JAVA_HOME\"] = \"/usr/lib/jvm/java-8-openjdk-amd64\"\n",
        "import pyspark\n",
        "from pyspark.sql import SQLContext"
      ],
      "metadata": {
        "id": "kJOrCIYYfIXj"
      },
      "execution_count": null,
      "outputs": []
    },
    {
      "cell_type": "code",
      "source": [
        "try:\n",
        "    if(spark == None):\n",
        "        spark = SparkSession.builder.appName('Initial').getOrCreate()\n",
        "        sqlContext=SQLContext(spark)\n",
        "except NameError:\n",
        "    spark = SparkSession.builder.appName('Initial').getOrCreate()\n",
        "    sqlContext=SQLContext(spark)"
      ],
      "metadata": {
        "id": "rnUXhTeMfLFk"
      },
      "execution_count": null,
      "outputs": []
    },
    {
      "cell_type": "code",
      "source": [
        "!pip install pyspark"
      ],
      "metadata": {
        "id": "y9NLTbYqrIsX",
        "colab": {
          "base_uri": "https://localhost:8080/"
        },
        "outputId": "b2ecb803-6232-4bc7-bd74-0e60ad534600"
      },
      "execution_count": null,
      "outputs": [
        {
          "output_type": "stream",
          "name": "stdout",
          "text": [
            "Requirement already satisfied: pyspark in /usr/local/lib/python3.7/dist-packages (3.2.1)\n",
            "Requirement already satisfied: py4j==0.10.9.3 in /usr/local/lib/python3.7/dist-packages (from pyspark) (0.10.9.3)\n"
          ]
        }
      ]
    },
    {
      "cell_type": "code",
      "source": [
        "from pyspark.sql import SparkSession\n",
        "\n",
        "appName = \"PySpark\"\n",
        "\n",
        "# Create Spark session\n",
        "spark = SparkSession.builder.appName(appName).getOrCreate()\n",
        "spark.conf.set(\"spark.sql.execution.arrow.enabled\", \"true\")"
      ],
      "metadata": {
        "id": "fZg8cgISrO7-"
      },
      "execution_count": null,
      "outputs": []
    },
    {
      "cell_type": "markdown",
      "source": [
        "# **Step 2: Data Wrangling**\n",
        "Our first dataset, called Application Record, stores the information of a credit card applicant by using a unique identifier. In each row, together with the ID, there are columns including gender, income and income type, highest education level, and housing type.\n",
        "\n",
        "The second dataset, called Credit Record, stores the ID of the person (which is a foreign key to the ID in the Application Record table, together with their debt status over a varying number of months together with how much they owe (if they owe anything at all)\n",
        "\n",
        "Since we downloaded the datasets as csv files, we first convert them to Pandas Dataframes to prepare for Data Wrangling and Exploratory Data Analysis (EDA)."
      ],
      "metadata": {
        "id": "dfjGBhj2nqdx"
      }
    },
    {
      "cell_type": "markdown",
      "source": [
        "## **Step 2.1: Uploading the datasets**"
      ],
      "metadata": {
        "id": "a8QuN8LZvPSK"
      }
    },
    {
      "cell_type": "markdown",
      "source": [
        "### **Step 2.1.1: Upload the Application Record to Colab and store it as a Pandas Dataframe**"
      ],
      "metadata": {
        "id": "Yup2Up2muMng"
      }
    },
    {
      "cell_type": "code",
      "source": [
        "application_record_df = pd.read_csv('https://raw.githubusercontent.com/sadekmunawar/data_for_ml/main/application_record.csv')"
      ],
      "metadata": {
        "id": "38nCLfIAegaP"
      },
      "execution_count": null,
      "outputs": []
    },
    {
      "cell_type": "markdown",
      "source": [
        "### **Step 2.1.2: Display the first 10 rows in application_record_df**"
      ],
      "metadata": {
        "id": "YZ45DgTas9qN"
      }
    },
    {
      "cell_type": "code",
      "source": [
        "application_record_df.head(10)"
      ],
      "metadata": {
        "colab": {
          "base_uri": "https://localhost:8080/"
        },
        "id": "80wyeQfBtT8X",
        "outputId": "eb8b2c65-3664-4c0e-fa20-f7c475c2f4ec"
      },
      "execution_count": null,
      "outputs": [
        {
          "output_type": "execute_result",
          "data": {
            "text/plain": [
              "        ID CODE_GENDER FLAG_OWN_CAR FLAG_OWN_REALTY  CNT_CHILDREN  \\\n",
              "0  5008804           M            Y               Y             0   \n",
              "1  5008805           M            Y               Y             0   \n",
              "2  5008806           M            Y               Y             0   \n",
              "3  5008808           F            N               Y             0   \n",
              "4  5008809           F            N               Y             0   \n",
              "5  5008810           F            N               Y             0   \n",
              "6  5008811           F            N               Y             0   \n",
              "7  5008812           F            N               Y             0   \n",
              "8  5008813           F            N               Y             0   \n",
              "9  5008814           F            N               Y             0   \n",
              "\n",
              "   AMT_INCOME_TOTAL      NAME_INCOME_TYPE            NAME_EDUCATION_TYPE  \\\n",
              "0          427500.0               Working               Higher education   \n",
              "1          427500.0               Working               Higher education   \n",
              "2          112500.0               Working  Secondary / secondary special   \n",
              "3          270000.0  Commercial associate  Secondary / secondary special   \n",
              "4          270000.0  Commercial associate  Secondary / secondary special   \n",
              "5          270000.0  Commercial associate  Secondary / secondary special   \n",
              "6          270000.0  Commercial associate  Secondary / secondary special   \n",
              "7          283500.0             Pensioner               Higher education   \n",
              "8          283500.0             Pensioner               Higher education   \n",
              "9          283500.0             Pensioner               Higher education   \n",
              "\n",
              "     NAME_FAMILY_STATUS  NAME_HOUSING_TYPE  DAYS_BIRTH  DAYS_EMPLOYED  \\\n",
              "0        Civil marriage   Rented apartment      -12005          -4542   \n",
              "1        Civil marriage   Rented apartment      -12005          -4542   \n",
              "2               Married  House / apartment      -21474          -1134   \n",
              "3  Single / not married  House / apartment      -19110          -3051   \n",
              "4  Single / not married  House / apartment      -19110          -3051   \n",
              "5  Single / not married  House / apartment      -19110          -3051   \n",
              "6  Single / not married  House / apartment      -19110          -3051   \n",
              "7             Separated  House / apartment      -22464         365243   \n",
              "8             Separated  House / apartment      -22464         365243   \n",
              "9             Separated  House / apartment      -22464         365243   \n",
              "\n",
              "   FLAG_MOBIL  FLAG_WORK_PHONE  FLAG_PHONE  FLAG_EMAIL OCCUPATION_TYPE  \\\n",
              "0           1                1           0           0             NaN   \n",
              "1           1                1           0           0             NaN   \n",
              "2           1                0           0           0  Security staff   \n",
              "3           1                0           1           1     Sales staff   \n",
              "4           1                0           1           1     Sales staff   \n",
              "5           1                0           1           1     Sales staff   \n",
              "6           1                0           1           1     Sales staff   \n",
              "7           1                0           0           0             NaN   \n",
              "8           1                0           0           0             NaN   \n",
              "9           1                0           0           0             NaN   \n",
              "\n",
              "   CNT_FAM_MEMBERS  \n",
              "0              2.0  \n",
              "1              2.0  \n",
              "2              2.0  \n",
              "3              1.0  \n",
              "4              1.0  \n",
              "5              1.0  \n",
              "6              1.0  \n",
              "7              1.0  \n",
              "8              1.0  \n",
              "9              1.0  "
            ],
            "text/html": [
              "\n",
              "  <div id=\"df-9f6f6790-8a20-42f9-8402-83de00942bdc\">\n",
              "    <div class=\"colab-df-container\">\n",
              "      <div>\n",
              "<style scoped>\n",
              "    .dataframe tbody tr th:only-of-type {\n",
              "        vertical-align: middle;\n",
              "    }\n",
              "\n",
              "    .dataframe tbody tr th {\n",
              "        vertical-align: top;\n",
              "    }\n",
              "\n",
              "    .dataframe thead th {\n",
              "        text-align: right;\n",
              "    }\n",
              "</style>\n",
              "<table border=\"1\" class=\"dataframe\">\n",
              "  <thead>\n",
              "    <tr style=\"text-align: right;\">\n",
              "      <th></th>\n",
              "      <th>ID</th>\n",
              "      <th>CODE_GENDER</th>\n",
              "      <th>FLAG_OWN_CAR</th>\n",
              "      <th>FLAG_OWN_REALTY</th>\n",
              "      <th>CNT_CHILDREN</th>\n",
              "      <th>AMT_INCOME_TOTAL</th>\n",
              "      <th>NAME_INCOME_TYPE</th>\n",
              "      <th>NAME_EDUCATION_TYPE</th>\n",
              "      <th>NAME_FAMILY_STATUS</th>\n",
              "      <th>NAME_HOUSING_TYPE</th>\n",
              "      <th>DAYS_BIRTH</th>\n",
              "      <th>DAYS_EMPLOYED</th>\n",
              "      <th>FLAG_MOBIL</th>\n",
              "      <th>FLAG_WORK_PHONE</th>\n",
              "      <th>FLAG_PHONE</th>\n",
              "      <th>FLAG_EMAIL</th>\n",
              "      <th>OCCUPATION_TYPE</th>\n",
              "      <th>CNT_FAM_MEMBERS</th>\n",
              "    </tr>\n",
              "  </thead>\n",
              "  <tbody>\n",
              "    <tr>\n",
              "      <th>0</th>\n",
              "      <td>5008804</td>\n",
              "      <td>M</td>\n",
              "      <td>Y</td>\n",
              "      <td>Y</td>\n",
              "      <td>0</td>\n",
              "      <td>427500.0</td>\n",
              "      <td>Working</td>\n",
              "      <td>Higher education</td>\n",
              "      <td>Civil marriage</td>\n",
              "      <td>Rented apartment</td>\n",
              "      <td>-12005</td>\n",
              "      <td>-4542</td>\n",
              "      <td>1</td>\n",
              "      <td>1</td>\n",
              "      <td>0</td>\n",
              "      <td>0</td>\n",
              "      <td>NaN</td>\n",
              "      <td>2.0</td>\n",
              "    </tr>\n",
              "    <tr>\n",
              "      <th>1</th>\n",
              "      <td>5008805</td>\n",
              "      <td>M</td>\n",
              "      <td>Y</td>\n",
              "      <td>Y</td>\n",
              "      <td>0</td>\n",
              "      <td>427500.0</td>\n",
              "      <td>Working</td>\n",
              "      <td>Higher education</td>\n",
              "      <td>Civil marriage</td>\n",
              "      <td>Rented apartment</td>\n",
              "      <td>-12005</td>\n",
              "      <td>-4542</td>\n",
              "      <td>1</td>\n",
              "      <td>1</td>\n",
              "      <td>0</td>\n",
              "      <td>0</td>\n",
              "      <td>NaN</td>\n",
              "      <td>2.0</td>\n",
              "    </tr>\n",
              "    <tr>\n",
              "      <th>2</th>\n",
              "      <td>5008806</td>\n",
              "      <td>M</td>\n",
              "      <td>Y</td>\n",
              "      <td>Y</td>\n",
              "      <td>0</td>\n",
              "      <td>112500.0</td>\n",
              "      <td>Working</td>\n",
              "      <td>Secondary / secondary special</td>\n",
              "      <td>Married</td>\n",
              "      <td>House / apartment</td>\n",
              "      <td>-21474</td>\n",
              "      <td>-1134</td>\n",
              "      <td>1</td>\n",
              "      <td>0</td>\n",
              "      <td>0</td>\n",
              "      <td>0</td>\n",
              "      <td>Security staff</td>\n",
              "      <td>2.0</td>\n",
              "    </tr>\n",
              "    <tr>\n",
              "      <th>3</th>\n",
              "      <td>5008808</td>\n",
              "      <td>F</td>\n",
              "      <td>N</td>\n",
              "      <td>Y</td>\n",
              "      <td>0</td>\n",
              "      <td>270000.0</td>\n",
              "      <td>Commercial associate</td>\n",
              "      <td>Secondary / secondary special</td>\n",
              "      <td>Single / not married</td>\n",
              "      <td>House / apartment</td>\n",
              "      <td>-19110</td>\n",
              "      <td>-3051</td>\n",
              "      <td>1</td>\n",
              "      <td>0</td>\n",
              "      <td>1</td>\n",
              "      <td>1</td>\n",
              "      <td>Sales staff</td>\n",
              "      <td>1.0</td>\n",
              "    </tr>\n",
              "    <tr>\n",
              "      <th>4</th>\n",
              "      <td>5008809</td>\n",
              "      <td>F</td>\n",
              "      <td>N</td>\n",
              "      <td>Y</td>\n",
              "      <td>0</td>\n",
              "      <td>270000.0</td>\n",
              "      <td>Commercial associate</td>\n",
              "      <td>Secondary / secondary special</td>\n",
              "      <td>Single / not married</td>\n",
              "      <td>House / apartment</td>\n",
              "      <td>-19110</td>\n",
              "      <td>-3051</td>\n",
              "      <td>1</td>\n",
              "      <td>0</td>\n",
              "      <td>1</td>\n",
              "      <td>1</td>\n",
              "      <td>Sales staff</td>\n",
              "      <td>1.0</td>\n",
              "    </tr>\n",
              "    <tr>\n",
              "      <th>5</th>\n",
              "      <td>5008810</td>\n",
              "      <td>F</td>\n",
              "      <td>N</td>\n",
              "      <td>Y</td>\n",
              "      <td>0</td>\n",
              "      <td>270000.0</td>\n",
              "      <td>Commercial associate</td>\n",
              "      <td>Secondary / secondary special</td>\n",
              "      <td>Single / not married</td>\n",
              "      <td>House / apartment</td>\n",
              "      <td>-19110</td>\n",
              "      <td>-3051</td>\n",
              "      <td>1</td>\n",
              "      <td>0</td>\n",
              "      <td>1</td>\n",
              "      <td>1</td>\n",
              "      <td>Sales staff</td>\n",
              "      <td>1.0</td>\n",
              "    </tr>\n",
              "    <tr>\n",
              "      <th>6</th>\n",
              "      <td>5008811</td>\n",
              "      <td>F</td>\n",
              "      <td>N</td>\n",
              "      <td>Y</td>\n",
              "      <td>0</td>\n",
              "      <td>270000.0</td>\n",
              "      <td>Commercial associate</td>\n",
              "      <td>Secondary / secondary special</td>\n",
              "      <td>Single / not married</td>\n",
              "      <td>House / apartment</td>\n",
              "      <td>-19110</td>\n",
              "      <td>-3051</td>\n",
              "      <td>1</td>\n",
              "      <td>0</td>\n",
              "      <td>1</td>\n",
              "      <td>1</td>\n",
              "      <td>Sales staff</td>\n",
              "      <td>1.0</td>\n",
              "    </tr>\n",
              "    <tr>\n",
              "      <th>7</th>\n",
              "      <td>5008812</td>\n",
              "      <td>F</td>\n",
              "      <td>N</td>\n",
              "      <td>Y</td>\n",
              "      <td>0</td>\n",
              "      <td>283500.0</td>\n",
              "      <td>Pensioner</td>\n",
              "      <td>Higher education</td>\n",
              "      <td>Separated</td>\n",
              "      <td>House / apartment</td>\n",
              "      <td>-22464</td>\n",
              "      <td>365243</td>\n",
              "      <td>1</td>\n",
              "      <td>0</td>\n",
              "      <td>0</td>\n",
              "      <td>0</td>\n",
              "      <td>NaN</td>\n",
              "      <td>1.0</td>\n",
              "    </tr>\n",
              "    <tr>\n",
              "      <th>8</th>\n",
              "      <td>5008813</td>\n",
              "      <td>F</td>\n",
              "      <td>N</td>\n",
              "      <td>Y</td>\n",
              "      <td>0</td>\n",
              "      <td>283500.0</td>\n",
              "      <td>Pensioner</td>\n",
              "      <td>Higher education</td>\n",
              "      <td>Separated</td>\n",
              "      <td>House / apartment</td>\n",
              "      <td>-22464</td>\n",
              "      <td>365243</td>\n",
              "      <td>1</td>\n",
              "      <td>0</td>\n",
              "      <td>0</td>\n",
              "      <td>0</td>\n",
              "      <td>NaN</td>\n",
              "      <td>1.0</td>\n",
              "    </tr>\n",
              "    <tr>\n",
              "      <th>9</th>\n",
              "      <td>5008814</td>\n",
              "      <td>F</td>\n",
              "      <td>N</td>\n",
              "      <td>Y</td>\n",
              "      <td>0</td>\n",
              "      <td>283500.0</td>\n",
              "      <td>Pensioner</td>\n",
              "      <td>Higher education</td>\n",
              "      <td>Separated</td>\n",
              "      <td>House / apartment</td>\n",
              "      <td>-22464</td>\n",
              "      <td>365243</td>\n",
              "      <td>1</td>\n",
              "      <td>0</td>\n",
              "      <td>0</td>\n",
              "      <td>0</td>\n",
              "      <td>NaN</td>\n",
              "      <td>1.0</td>\n",
              "    </tr>\n",
              "  </tbody>\n",
              "</table>\n",
              "</div>\n",
              "      <button class=\"colab-df-convert\" onclick=\"convertToInteractive('df-9f6f6790-8a20-42f9-8402-83de00942bdc')\"\n",
              "              title=\"Convert this dataframe to an interactive table.\"\n",
              "              style=\"display:none;\">\n",
              "        \n",
              "  <svg xmlns=\"http://www.w3.org/2000/svg\" height=\"24px\"viewBox=\"0 0 24 24\"\n",
              "       width=\"24px\">\n",
              "    <path d=\"M0 0h24v24H0V0z\" fill=\"none\"/>\n",
              "    <path d=\"M18.56 5.44l.94 2.06.94-2.06 2.06-.94-2.06-.94-.94-2.06-.94 2.06-2.06.94zm-11 1L8.5 8.5l.94-2.06 2.06-.94-2.06-.94L8.5 2.5l-.94 2.06-2.06.94zm10 10l.94 2.06.94-2.06 2.06-.94-2.06-.94-.94-2.06-.94 2.06-2.06.94z\"/><path d=\"M17.41 7.96l-1.37-1.37c-.4-.4-.92-.59-1.43-.59-.52 0-1.04.2-1.43.59L10.3 9.45l-7.72 7.72c-.78.78-.78 2.05 0 2.83L4 21.41c.39.39.9.59 1.41.59.51 0 1.02-.2 1.41-.59l7.78-7.78 2.81-2.81c.8-.78.8-2.07 0-2.86zM5.41 20L4 18.59l7.72-7.72 1.47 1.35L5.41 20z\"/>\n",
              "  </svg>\n",
              "      </button>\n",
              "      \n",
              "  <style>\n",
              "    .colab-df-container {\n",
              "      display:flex;\n",
              "      flex-wrap:wrap;\n",
              "      gap: 12px;\n",
              "    }\n",
              "\n",
              "    .colab-df-convert {\n",
              "      background-color: #E8F0FE;\n",
              "      border: none;\n",
              "      border-radius: 50%;\n",
              "      cursor: pointer;\n",
              "      display: none;\n",
              "      fill: #1967D2;\n",
              "      height: 32px;\n",
              "      padding: 0 0 0 0;\n",
              "      width: 32px;\n",
              "    }\n",
              "\n",
              "    .colab-df-convert:hover {\n",
              "      background-color: #E2EBFA;\n",
              "      box-shadow: 0px 1px 2px rgba(60, 64, 67, 0.3), 0px 1px 3px 1px rgba(60, 64, 67, 0.15);\n",
              "      fill: #174EA6;\n",
              "    }\n",
              "\n",
              "    [theme=dark] .colab-df-convert {\n",
              "      background-color: #3B4455;\n",
              "      fill: #D2E3FC;\n",
              "    }\n",
              "\n",
              "    [theme=dark] .colab-df-convert:hover {\n",
              "      background-color: #434B5C;\n",
              "      box-shadow: 0px 1px 3px 1px rgba(0, 0, 0, 0.15);\n",
              "      filter: drop-shadow(0px 1px 2px rgba(0, 0, 0, 0.3));\n",
              "      fill: #FFFFFF;\n",
              "    }\n",
              "  </style>\n",
              "\n",
              "      <script>\n",
              "        const buttonEl =\n",
              "          document.querySelector('#df-9f6f6790-8a20-42f9-8402-83de00942bdc button.colab-df-convert');\n",
              "        buttonEl.style.display =\n",
              "          google.colab.kernel.accessAllowed ? 'block' : 'none';\n",
              "\n",
              "        async function convertToInteractive(key) {\n",
              "          const element = document.querySelector('#df-9f6f6790-8a20-42f9-8402-83de00942bdc');\n",
              "          const dataTable =\n",
              "            await google.colab.kernel.invokeFunction('convertToInteractive',\n",
              "                                                     [key], {});\n",
              "          if (!dataTable) return;\n",
              "\n",
              "          const docLinkHtml = 'Like what you see? Visit the ' +\n",
              "            '<a target=\"_blank\" href=https://colab.research.google.com/notebooks/data_table.ipynb>data table notebook</a>'\n",
              "            + ' to learn more about interactive tables.';\n",
              "          element.innerHTML = '';\n",
              "          dataTable['output_type'] = 'display_data';\n",
              "          await google.colab.output.renderOutput(dataTable, element);\n",
              "          const docLink = document.createElement('div');\n",
              "          docLink.innerHTML = docLinkHtml;\n",
              "          element.appendChild(docLink);\n",
              "        }\n",
              "      </script>\n",
              "    </div>\n",
              "  </div>\n",
              "  "
            ]
          },
          "metadata": {},
          "execution_count": 13
        }
      ]
    },
    {
      "cell_type": "markdown",
      "source": [
        "### **Step 2.1.3: Upload both the Credit Record to Colab and store it as a Pandas Dataframe**"
      ],
      "metadata": {
        "id": "RJworRAXuRHO"
      }
    },
    {
      "cell_type": "code",
      "execution_count": null,
      "metadata": {
        "id": "PB4RPNywcKOv"
      },
      "outputs": [],
      "source": [
        "credit_record_df = pd.read_csv('https://raw.githubusercontent.com/sadekmunawar/data_for_ml/main/credit_record.csv')"
      ]
    },
    {
      "cell_type": "markdown",
      "source": [
        "### **Step 2.1.4: Display the first 10 rows in credit_record_df**"
      ],
      "metadata": {
        "id": "zcsRyzKxuBF7"
      }
    },
    {
      "cell_type": "markdown",
      "source": [
        "Status: 0: 1-29 days past due; 1: 30-59 days past due; 2: 60-89 days overdue; 3: 90-119 days overdue; 4: 120-149 days overdue; 5: Overdue or bad debts, write-offs for more than 150 days; C: paid off that month; X: No loan for the month"
      ],
      "metadata": {
        "id": "uBpkKHMs6CpU"
      }
    },
    {
      "cell_type": "code",
      "source": [
        "credit_record_df.head(10)"
      ],
      "metadata": {
        "colab": {
          "base_uri": "https://localhost:8080/"
        },
        "id": "cJIvxiX3uG0k",
        "outputId": "300cb2b3-e572-4624-f099-9cc7c2b021ed"
      },
      "execution_count": null,
      "outputs": [
        {
          "output_type": "execute_result",
          "data": {
            "text/plain": [
              "        ID  MONTHS_BALANCE STATUS\n",
              "0  5001711               0      X\n",
              "1  5001711              -1      0\n",
              "2  5001711              -2      0\n",
              "3  5001711              -3      0\n",
              "4  5001712               0      C\n",
              "5  5001712              -1      C\n",
              "6  5001712              -2      C\n",
              "7  5001712              -3      C\n",
              "8  5001712              -4      C\n",
              "9  5001712              -5      C"
            ],
            "text/html": [
              "\n",
              "  <div id=\"df-d372de1e-62aa-48de-815c-ec2188bc2334\">\n",
              "    <div class=\"colab-df-container\">\n",
              "      <div>\n",
              "<style scoped>\n",
              "    .dataframe tbody tr th:only-of-type {\n",
              "        vertical-align: middle;\n",
              "    }\n",
              "\n",
              "    .dataframe tbody tr th {\n",
              "        vertical-align: top;\n",
              "    }\n",
              "\n",
              "    .dataframe thead th {\n",
              "        text-align: right;\n",
              "    }\n",
              "</style>\n",
              "<table border=\"1\" class=\"dataframe\">\n",
              "  <thead>\n",
              "    <tr style=\"text-align: right;\">\n",
              "      <th></th>\n",
              "      <th>ID</th>\n",
              "      <th>MONTHS_BALANCE</th>\n",
              "      <th>STATUS</th>\n",
              "    </tr>\n",
              "  </thead>\n",
              "  <tbody>\n",
              "    <tr>\n",
              "      <th>0</th>\n",
              "      <td>5001711</td>\n",
              "      <td>0</td>\n",
              "      <td>X</td>\n",
              "    </tr>\n",
              "    <tr>\n",
              "      <th>1</th>\n",
              "      <td>5001711</td>\n",
              "      <td>-1</td>\n",
              "      <td>0</td>\n",
              "    </tr>\n",
              "    <tr>\n",
              "      <th>2</th>\n",
              "      <td>5001711</td>\n",
              "      <td>-2</td>\n",
              "      <td>0</td>\n",
              "    </tr>\n",
              "    <tr>\n",
              "      <th>3</th>\n",
              "      <td>5001711</td>\n",
              "      <td>-3</td>\n",
              "      <td>0</td>\n",
              "    </tr>\n",
              "    <tr>\n",
              "      <th>4</th>\n",
              "      <td>5001712</td>\n",
              "      <td>0</td>\n",
              "      <td>C</td>\n",
              "    </tr>\n",
              "    <tr>\n",
              "      <th>5</th>\n",
              "      <td>5001712</td>\n",
              "      <td>-1</td>\n",
              "      <td>C</td>\n",
              "    </tr>\n",
              "    <tr>\n",
              "      <th>6</th>\n",
              "      <td>5001712</td>\n",
              "      <td>-2</td>\n",
              "      <td>C</td>\n",
              "    </tr>\n",
              "    <tr>\n",
              "      <th>7</th>\n",
              "      <td>5001712</td>\n",
              "      <td>-3</td>\n",
              "      <td>C</td>\n",
              "    </tr>\n",
              "    <tr>\n",
              "      <th>8</th>\n",
              "      <td>5001712</td>\n",
              "      <td>-4</td>\n",
              "      <td>C</td>\n",
              "    </tr>\n",
              "    <tr>\n",
              "      <th>9</th>\n",
              "      <td>5001712</td>\n",
              "      <td>-5</td>\n",
              "      <td>C</td>\n",
              "    </tr>\n",
              "  </tbody>\n",
              "</table>\n",
              "</div>\n",
              "      <button class=\"colab-df-convert\" onclick=\"convertToInteractive('df-d372de1e-62aa-48de-815c-ec2188bc2334')\"\n",
              "              title=\"Convert this dataframe to an interactive table.\"\n",
              "              style=\"display:none;\">\n",
              "        \n",
              "  <svg xmlns=\"http://www.w3.org/2000/svg\" height=\"24px\"viewBox=\"0 0 24 24\"\n",
              "       width=\"24px\">\n",
              "    <path d=\"M0 0h24v24H0V0z\" fill=\"none\"/>\n",
              "    <path d=\"M18.56 5.44l.94 2.06.94-2.06 2.06-.94-2.06-.94-.94-2.06-.94 2.06-2.06.94zm-11 1L8.5 8.5l.94-2.06 2.06-.94-2.06-.94L8.5 2.5l-.94 2.06-2.06.94zm10 10l.94 2.06.94-2.06 2.06-.94-2.06-.94-.94-2.06-.94 2.06-2.06.94z\"/><path d=\"M17.41 7.96l-1.37-1.37c-.4-.4-.92-.59-1.43-.59-.52 0-1.04.2-1.43.59L10.3 9.45l-7.72 7.72c-.78.78-.78 2.05 0 2.83L4 21.41c.39.39.9.59 1.41.59.51 0 1.02-.2 1.41-.59l7.78-7.78 2.81-2.81c.8-.78.8-2.07 0-2.86zM5.41 20L4 18.59l7.72-7.72 1.47 1.35L5.41 20z\"/>\n",
              "  </svg>\n",
              "      </button>\n",
              "      \n",
              "  <style>\n",
              "    .colab-df-container {\n",
              "      display:flex;\n",
              "      flex-wrap:wrap;\n",
              "      gap: 12px;\n",
              "    }\n",
              "\n",
              "    .colab-df-convert {\n",
              "      background-color: #E8F0FE;\n",
              "      border: none;\n",
              "      border-radius: 50%;\n",
              "      cursor: pointer;\n",
              "      display: none;\n",
              "      fill: #1967D2;\n",
              "      height: 32px;\n",
              "      padding: 0 0 0 0;\n",
              "      width: 32px;\n",
              "    }\n",
              "\n",
              "    .colab-df-convert:hover {\n",
              "      background-color: #E2EBFA;\n",
              "      box-shadow: 0px 1px 2px rgba(60, 64, 67, 0.3), 0px 1px 3px 1px rgba(60, 64, 67, 0.15);\n",
              "      fill: #174EA6;\n",
              "    }\n",
              "\n",
              "    [theme=dark] .colab-df-convert {\n",
              "      background-color: #3B4455;\n",
              "      fill: #D2E3FC;\n",
              "    }\n",
              "\n",
              "    [theme=dark] .colab-df-convert:hover {\n",
              "      background-color: #434B5C;\n",
              "      box-shadow: 0px 1px 3px 1px rgba(0, 0, 0, 0.15);\n",
              "      filter: drop-shadow(0px 1px 2px rgba(0, 0, 0, 0.3));\n",
              "      fill: #FFFFFF;\n",
              "    }\n",
              "  </style>\n",
              "\n",
              "      <script>\n",
              "        const buttonEl =\n",
              "          document.querySelector('#df-d372de1e-62aa-48de-815c-ec2188bc2334 button.colab-df-convert');\n",
              "        buttonEl.style.display =\n",
              "          google.colab.kernel.accessAllowed ? 'block' : 'none';\n",
              "\n",
              "        async function convertToInteractive(key) {\n",
              "          const element = document.querySelector('#df-d372de1e-62aa-48de-815c-ec2188bc2334');\n",
              "          const dataTable =\n",
              "            await google.colab.kernel.invokeFunction('convertToInteractive',\n",
              "                                                     [key], {});\n",
              "          if (!dataTable) return;\n",
              "\n",
              "          const docLinkHtml = 'Like what you see? Visit the ' +\n",
              "            '<a target=\"_blank\" href=https://colab.research.google.com/notebooks/data_table.ipynb>data table notebook</a>'\n",
              "            + ' to learn more about interactive tables.';\n",
              "          element.innerHTML = '';\n",
              "          dataTable['output_type'] = 'display_data';\n",
              "          await google.colab.output.renderOutput(dataTable, element);\n",
              "          const docLink = document.createElement('div');\n",
              "          docLink.innerHTML = docLinkHtml;\n",
              "          element.appendChild(docLink);\n",
              "        }\n",
              "      </script>\n",
              "    </div>\n",
              "  </div>\n",
              "  "
            ]
          },
          "metadata": {},
          "execution_count": 15
        }
      ]
    },
    {
      "cell_type": "markdown",
      "source": [
        "## **Step 2.2: Cleaning the data**"
      ],
      "metadata": {
        "id": "ofAhlGWAvkmt"
      }
    },
    {
      "cell_type": "markdown",
      "source": [
        "###**Step 2.2.1: Cleaning the Application Record Dataframe** "
      ],
      "metadata": {
        "id": "6mqFFIIsycVT"
      }
    },
    {
      "cell_type": "markdown",
      "metadata": {
        "id": "P6uMmFxacKOv"
      },
      "source": [
        "### **Step 2.2.1 a): Fill in and drop nulls and remove duplicates** \n",
        "\n",
        "In this step, we first fill nulls in the Occupation column with \"unknown\", drop the nulls and drop columns that will not be useful in the modeling section. \n",
        "\n",
        "We also convert some entries into more human-readable values; for example, we calculated the age and number of years employed of a person by dividing the DAYS_BIRTH and DAYS_EMPLOYED columns by 365 respectively."
      ]
    },
    {
      "cell_type": "code",
      "execution_count": null,
      "metadata": {
        "id": "NEirwemqcKOw"
      },
      "outputs": [],
      "source": [
        "application_record_df = application_record_df.drop_duplicates(subset=['ID'], keep='first').reset_index(drop=True)\n",
        "application_record_df['OCCUPATION_TYPE'] = application_record_df['OCCUPATION_TYPE'].fillna('Unknown')\n",
        "application_record_df = application_record_df.dropna(axis=0)\n",
        "application_record_df['AGE'] = application_record_df['DAYS_BIRTH'].apply(lambda x: round(abs(x / 365.0)))\n",
        "application_record_df['YEARS_EMPLOYED'] = application_record_df['DAYS_EMPLOYED'].apply(lambda x: round(abs(x / 365.0)) if x < 0 else 0)\n",
        "application_cleaned_df = application_record_df.drop(columns=['DAYS_BIRTH', 'DAYS_EMPLOYED'])"
      ]
    },
    {
      "cell_type": "markdown",
      "metadata": {
        "id": "pysFrZsLcKOx"
      },
      "source": [
        "### **Step 2.2.1 b): Further Cleaning** \n",
        "\n"
      ]
    },
    {
      "cell_type": "code",
      "source": [
        "application_cleaned_df['NAME_HOUSING_TYPE'] = application_cleaned_df['NAME_HOUSING_TYPE'].apply(lambda x: 'House' if x.strip() == 'House / apartment' else x)\n",
        "application_cleaned_df['NAME_FAMILY_STATUS'] = application_cleaned_df['NAME_FAMILY_STATUS'].apply(lambda x: 'Single' if x.strip() == 'Single / not married' else x)\n",
        "application_cleaned_df.rename(columns={'CODE_GENDER':'GENDER', 'NAME_HOUSING_TYPE' : 'HOUSING_TYPE', 'AMT_INCOME_TOTAL': 'INCOME', 'NAME_INCOME_TYPE': 'INCOME_TYPE', 'NAME_EDUCATION_TYPE': 'EDUCATION'}, inplace=True)"
      ],
      "metadata": {
        "id": "ogYdIYziXKwn"
      },
      "execution_count": null,
      "outputs": []
    },
    {
      "cell_type": "markdown",
      "source": [
        "### **Step 2.2.1 c): Display first 5 rows of the cleaned application_record_df** "
      ],
      "metadata": {
        "id": "PQWwp9m6aTqv"
      }
    },
    {
      "cell_type": "code",
      "source": [
        "application_cleaned_df.head(5)"
      ],
      "metadata": {
        "colab": {
          "base_uri": "https://localhost:8080/",
          "height": 409
        },
        "id": "hfWYLWttaQjK",
        "outputId": "a04e29ca-2310-4096-ace1-1d6066565d34"
      },
      "execution_count": null,
      "outputs": [
        {
          "output_type": "execute_result",
          "data": {
            "text/plain": [
              "        ID GENDER FLAG_OWN_CAR FLAG_OWN_REALTY  CNT_CHILDREN    INCOME  \\\n",
              "0  5008804      M            Y               Y             0  427500.0   \n",
              "1  5008805      M            Y               Y             0  427500.0   \n",
              "2  5008806      M            Y               Y             0  112500.0   \n",
              "3  5008808      F            N               Y             0  270000.0   \n",
              "4  5008809      F            N               Y             0  270000.0   \n",
              "\n",
              "            INCOME_TYPE                      EDUCATION NAME_FAMILY_STATUS  \\\n",
              "0               Working               Higher education     Civil marriage   \n",
              "1               Working               Higher education     Civil marriage   \n",
              "2               Working  Secondary / secondary special            Married   \n",
              "3  Commercial associate  Secondary / secondary special             Single   \n",
              "4  Commercial associate  Secondary / secondary special             Single   \n",
              "\n",
              "       HOUSING_TYPE  FLAG_MOBIL  FLAG_WORK_PHONE  FLAG_PHONE  FLAG_EMAIL  \\\n",
              "0  Rented apartment           1                1           0           0   \n",
              "1  Rented apartment           1                1           0           0   \n",
              "2             House           1                0           0           0   \n",
              "3             House           1                0           1           1   \n",
              "4             House           1                0           1           1   \n",
              "\n",
              "  OCCUPATION_TYPE  CNT_FAM_MEMBERS  AGE  YEARS_EMPLOYED  \n",
              "0         Unknown              2.0   33              12  \n",
              "1         Unknown              2.0   33              12  \n",
              "2  Security staff              2.0   59               3  \n",
              "3     Sales staff              1.0   52               8  \n",
              "4     Sales staff              1.0   52               8  "
            ],
            "text/html": [
              "\n",
              "  <div id=\"df-e207a6af-6bf3-4218-98e2-2a824565adc6\">\n",
              "    <div class=\"colab-df-container\">\n",
              "      <div>\n",
              "<style scoped>\n",
              "    .dataframe tbody tr th:only-of-type {\n",
              "        vertical-align: middle;\n",
              "    }\n",
              "\n",
              "    .dataframe tbody tr th {\n",
              "        vertical-align: top;\n",
              "    }\n",
              "\n",
              "    .dataframe thead th {\n",
              "        text-align: right;\n",
              "    }\n",
              "</style>\n",
              "<table border=\"1\" class=\"dataframe\">\n",
              "  <thead>\n",
              "    <tr style=\"text-align: right;\">\n",
              "      <th></th>\n",
              "      <th>ID</th>\n",
              "      <th>GENDER</th>\n",
              "      <th>FLAG_OWN_CAR</th>\n",
              "      <th>FLAG_OWN_REALTY</th>\n",
              "      <th>CNT_CHILDREN</th>\n",
              "      <th>INCOME</th>\n",
              "      <th>INCOME_TYPE</th>\n",
              "      <th>EDUCATION</th>\n",
              "      <th>NAME_FAMILY_STATUS</th>\n",
              "      <th>HOUSING_TYPE</th>\n",
              "      <th>FLAG_MOBIL</th>\n",
              "      <th>FLAG_WORK_PHONE</th>\n",
              "      <th>FLAG_PHONE</th>\n",
              "      <th>FLAG_EMAIL</th>\n",
              "      <th>OCCUPATION_TYPE</th>\n",
              "      <th>CNT_FAM_MEMBERS</th>\n",
              "      <th>AGE</th>\n",
              "      <th>YEARS_EMPLOYED</th>\n",
              "    </tr>\n",
              "  </thead>\n",
              "  <tbody>\n",
              "    <tr>\n",
              "      <th>0</th>\n",
              "      <td>5008804</td>\n",
              "      <td>M</td>\n",
              "      <td>Y</td>\n",
              "      <td>Y</td>\n",
              "      <td>0</td>\n",
              "      <td>427500.0</td>\n",
              "      <td>Working</td>\n",
              "      <td>Higher education</td>\n",
              "      <td>Civil marriage</td>\n",
              "      <td>Rented apartment</td>\n",
              "      <td>1</td>\n",
              "      <td>1</td>\n",
              "      <td>0</td>\n",
              "      <td>0</td>\n",
              "      <td>Unknown</td>\n",
              "      <td>2.0</td>\n",
              "      <td>33</td>\n",
              "      <td>12</td>\n",
              "    </tr>\n",
              "    <tr>\n",
              "      <th>1</th>\n",
              "      <td>5008805</td>\n",
              "      <td>M</td>\n",
              "      <td>Y</td>\n",
              "      <td>Y</td>\n",
              "      <td>0</td>\n",
              "      <td>427500.0</td>\n",
              "      <td>Working</td>\n",
              "      <td>Higher education</td>\n",
              "      <td>Civil marriage</td>\n",
              "      <td>Rented apartment</td>\n",
              "      <td>1</td>\n",
              "      <td>1</td>\n",
              "      <td>0</td>\n",
              "      <td>0</td>\n",
              "      <td>Unknown</td>\n",
              "      <td>2.0</td>\n",
              "      <td>33</td>\n",
              "      <td>12</td>\n",
              "    </tr>\n",
              "    <tr>\n",
              "      <th>2</th>\n",
              "      <td>5008806</td>\n",
              "      <td>M</td>\n",
              "      <td>Y</td>\n",
              "      <td>Y</td>\n",
              "      <td>0</td>\n",
              "      <td>112500.0</td>\n",
              "      <td>Working</td>\n",
              "      <td>Secondary / secondary special</td>\n",
              "      <td>Married</td>\n",
              "      <td>House</td>\n",
              "      <td>1</td>\n",
              "      <td>0</td>\n",
              "      <td>0</td>\n",
              "      <td>0</td>\n",
              "      <td>Security staff</td>\n",
              "      <td>2.0</td>\n",
              "      <td>59</td>\n",
              "      <td>3</td>\n",
              "    </tr>\n",
              "    <tr>\n",
              "      <th>3</th>\n",
              "      <td>5008808</td>\n",
              "      <td>F</td>\n",
              "      <td>N</td>\n",
              "      <td>Y</td>\n",
              "      <td>0</td>\n",
              "      <td>270000.0</td>\n",
              "      <td>Commercial associate</td>\n",
              "      <td>Secondary / secondary special</td>\n",
              "      <td>Single</td>\n",
              "      <td>House</td>\n",
              "      <td>1</td>\n",
              "      <td>0</td>\n",
              "      <td>1</td>\n",
              "      <td>1</td>\n",
              "      <td>Sales staff</td>\n",
              "      <td>1.0</td>\n",
              "      <td>52</td>\n",
              "      <td>8</td>\n",
              "    </tr>\n",
              "    <tr>\n",
              "      <th>4</th>\n",
              "      <td>5008809</td>\n",
              "      <td>F</td>\n",
              "      <td>N</td>\n",
              "      <td>Y</td>\n",
              "      <td>0</td>\n",
              "      <td>270000.0</td>\n",
              "      <td>Commercial associate</td>\n",
              "      <td>Secondary / secondary special</td>\n",
              "      <td>Single</td>\n",
              "      <td>House</td>\n",
              "      <td>1</td>\n",
              "      <td>0</td>\n",
              "      <td>1</td>\n",
              "      <td>1</td>\n",
              "      <td>Sales staff</td>\n",
              "      <td>1.0</td>\n",
              "      <td>52</td>\n",
              "      <td>8</td>\n",
              "    </tr>\n",
              "  </tbody>\n",
              "</table>\n",
              "</div>\n",
              "      <button class=\"colab-df-convert\" onclick=\"convertToInteractive('df-e207a6af-6bf3-4218-98e2-2a824565adc6')\"\n",
              "              title=\"Convert this dataframe to an interactive table.\"\n",
              "              style=\"display:none;\">\n",
              "        \n",
              "  <svg xmlns=\"http://www.w3.org/2000/svg\" height=\"24px\"viewBox=\"0 0 24 24\"\n",
              "       width=\"24px\">\n",
              "    <path d=\"M0 0h24v24H0V0z\" fill=\"none\"/>\n",
              "    <path d=\"M18.56 5.44l.94 2.06.94-2.06 2.06-.94-2.06-.94-.94-2.06-.94 2.06-2.06.94zm-11 1L8.5 8.5l.94-2.06 2.06-.94-2.06-.94L8.5 2.5l-.94 2.06-2.06.94zm10 10l.94 2.06.94-2.06 2.06-.94-2.06-.94-.94-2.06-.94 2.06-2.06.94z\"/><path d=\"M17.41 7.96l-1.37-1.37c-.4-.4-.92-.59-1.43-.59-.52 0-1.04.2-1.43.59L10.3 9.45l-7.72 7.72c-.78.78-.78 2.05 0 2.83L4 21.41c.39.39.9.59 1.41.59.51 0 1.02-.2 1.41-.59l7.78-7.78 2.81-2.81c.8-.78.8-2.07 0-2.86zM5.41 20L4 18.59l7.72-7.72 1.47 1.35L5.41 20z\"/>\n",
              "  </svg>\n",
              "      </button>\n",
              "      \n",
              "  <style>\n",
              "    .colab-df-container {\n",
              "      display:flex;\n",
              "      flex-wrap:wrap;\n",
              "      gap: 12px;\n",
              "    }\n",
              "\n",
              "    .colab-df-convert {\n",
              "      background-color: #E8F0FE;\n",
              "      border: none;\n",
              "      border-radius: 50%;\n",
              "      cursor: pointer;\n",
              "      display: none;\n",
              "      fill: #1967D2;\n",
              "      height: 32px;\n",
              "      padding: 0 0 0 0;\n",
              "      width: 32px;\n",
              "    }\n",
              "\n",
              "    .colab-df-convert:hover {\n",
              "      background-color: #E2EBFA;\n",
              "      box-shadow: 0px 1px 2px rgba(60, 64, 67, 0.3), 0px 1px 3px 1px rgba(60, 64, 67, 0.15);\n",
              "      fill: #174EA6;\n",
              "    }\n",
              "\n",
              "    [theme=dark] .colab-df-convert {\n",
              "      background-color: #3B4455;\n",
              "      fill: #D2E3FC;\n",
              "    }\n",
              "\n",
              "    [theme=dark] .colab-df-convert:hover {\n",
              "      background-color: #434B5C;\n",
              "      box-shadow: 0px 1px 3px 1px rgba(0, 0, 0, 0.15);\n",
              "      filter: drop-shadow(0px 1px 2px rgba(0, 0, 0, 0.3));\n",
              "      fill: #FFFFFF;\n",
              "    }\n",
              "  </style>\n",
              "\n",
              "      <script>\n",
              "        const buttonEl =\n",
              "          document.querySelector('#df-e207a6af-6bf3-4218-98e2-2a824565adc6 button.colab-df-convert');\n",
              "        buttonEl.style.display =\n",
              "          google.colab.kernel.accessAllowed ? 'block' : 'none';\n",
              "\n",
              "        async function convertToInteractive(key) {\n",
              "          const element = document.querySelector('#df-e207a6af-6bf3-4218-98e2-2a824565adc6');\n",
              "          const dataTable =\n",
              "            await google.colab.kernel.invokeFunction('convertToInteractive',\n",
              "                                                     [key], {});\n",
              "          if (!dataTable) return;\n",
              "\n",
              "          const docLinkHtml = 'Like what you see? Visit the ' +\n",
              "            '<a target=\"_blank\" href=https://colab.research.google.com/notebooks/data_table.ipynb>data table notebook</a>'\n",
              "            + ' to learn more about interactive tables.';\n",
              "          element.innerHTML = '';\n",
              "          dataTable['output_type'] = 'display_data';\n",
              "          await google.colab.output.renderOutput(dataTable, element);\n",
              "          const docLink = document.createElement('div');\n",
              "          docLink.innerHTML = docLinkHtml;\n",
              "          element.appendChild(docLink);\n",
              "        }\n",
              "      </script>\n",
              "    </div>\n",
              "  </div>\n",
              "  "
            ]
          },
          "metadata": {},
          "execution_count": 18
        }
      ]
    },
    {
      "cell_type": "markdown",
      "source": [
        "### **Step 2.2.2: Cleaning the Credit Record Dataframe** "
      ],
      "metadata": {
        "id": "UFs4ElMCy3ON"
      }
    },
    {
      "cell_type": "markdown",
      "source": [
        "### **Step 2.2.1: Convert alphanumeric values to numeric** \n",
        "Since the Debt Status column contains alphanumeric values, we create a function, *status_to_int(x)*, to ensure that it is only a numeric column having values from 1 to 9. To strengthen our wrangling, we insert -1 for any value that is a NaN."
      ],
      "metadata": {
        "id": "Za0ga-f6y6G1"
      }
    },
    {
      "cell_type": "code",
      "source": [
        "def status_to_int(x):\n",
        "  if x == '1':\n",
        "    return 1\n",
        "  if x == '2':\n",
        "    return 2\n",
        "  if x == '3':\n",
        "    return 3\n",
        "  if x == '5':\n",
        "    return 5\n",
        "  if x == 'C':\n",
        "    return 6\n",
        "  if x == 'X':\n",
        "    return 7\n",
        "  else:\n",
        "    return -1\n",
        "\n",
        "credit_record_df['STATUS'] = credit_record_df.STATUS.apply(lambda x : status_to_int(x))"
      ],
      "metadata": {
        "id": "d6E2HfjF08wG"
      },
      "execution_count": null,
      "outputs": []
    },
    {
      "cell_type": "markdown",
      "source": [
        "# **Step 3: Exploratory Data Analysis (EDA)**\n",
        "After cleaning the two datasets, we needed to explore the data and correlated features. We sought to find answers to some of our questions such as \"which age group has the highest income?\" or \"what is the most common highest education level achieved by the applicants?\""
      ],
      "metadata": {
        "id": "dxbIFqjsMFOv"
      }
    },
    {
      "cell_type": "markdown",
      "source": [
        "### **Step 3.1: Income Distribution by Age Group and Gender** "
      ],
      "metadata": {
        "id": "W3L3bpCsNBNJ"
      }
    },
    {
      "cell_type": "markdown",
      "source": [
        "In order to see the most common age group of loan applicants, we first created the function below that places each applicant into an age group. After that we grouped by age group and gender to prepare for a barplot."
      ],
      "metadata": {
        "id": "gRptwINHPYiu"
      }
    },
    {
      "cell_type": "code",
      "source": [
        "income_distribution_df = application_cleaned_df[['GENDER', 'INCOME', 'AGE', 'YEARS_EMPLOYED']]\n",
        "def age_group(x):\n",
        "  if x < 20:\n",
        "    return '10-19'\n",
        "  if x < 30:\n",
        "    return '20-29'\n",
        "  if x < 40:\n",
        "    return '30-39'\n",
        "  if x < 50:\n",
        "    return '40-49'\n",
        "  if x < 60:\n",
        "    return '50-59'\n",
        "  if x < 70:\n",
        "    return '60-69'\n",
        "  else:\n",
        "    return '70+'\n",
        "income_distribution_df['AGE_GROUP'] = income_distribution_df['AGE'].apply(lambda x: age_group(x)) \n",
        "income_age_gender_df = income_distribution_df[['GENDER', 'INCOME', 'AGE_GROUP']].groupby(['AGE_GROUP', 'GENDER']).mean().reset_index()\n",
        "income_age_gender_df['INCOME'] = income_age_gender_df['INCOME'].apply(lambda x: int(x))"
      ],
      "metadata": {
        "id": "CWRe5oyyeueR",
        "colab": {
          "base_uri": "https://localhost:8080/"
        },
        "outputId": "3800b8c6-245b-41b5-e22c-d0afcbfbfe12"
      },
      "execution_count": null,
      "outputs": [
        {
          "output_type": "stream",
          "name": "stderr",
          "text": [
            "/usr/local/lib/python3.7/dist-packages/ipykernel_launcher.py:17: SettingWithCopyWarning: \n",
            "A value is trying to be set on a copy of a slice from a DataFrame.\n",
            "Try using .loc[row_indexer,col_indexer] = value instead\n",
            "\n",
            "See the caveats in the documentation: https://pandas.pydata.org/pandas-docs/stable/user_guide/indexing.html#returning-a-view-versus-a-copy\n"
          ]
        }
      ]
    },
    {
      "cell_type": "markdown",
      "source": [
        "We then plotted a barplot using the grouped dataset, which informed us that the majority of loan applicants are males that are aged 40-49."
      ],
      "metadata": {
        "id": "_ImirsnLPh_2"
      }
    },
    {
      "cell_type": "code",
      "source": [
        "sns.set(rc = {'figure.figsize':(10,7)})\n",
        "plt.title(\"Income Distribution by Age and Gender\", fontsize=30)\n",
        "sns.barplot(x = 'AGE_GROUP',\n",
        "            y = 'INCOME',\n",
        "            hue = 'GENDER',\n",
        "            data = income_age_gender_df)"
      ],
      "metadata": {
        "colab": {
          "base_uri": "https://localhost:8080/",
          "height": 495
        },
        "id": "09QV75RGgm-5",
        "outputId": "9edc5233-a1ff-419b-ddc5-6b2372ca77f3"
      },
      "execution_count": null,
      "outputs": [
        {
          "output_type": "execute_result",
          "data": {
            "text/plain": [
              "<matplotlib.axes._subplots.AxesSubplot at 0x7fb1a4a1d310>"
            ]
          },
          "metadata": {},
          "execution_count": 21
        },
        {
          "output_type": "display_data",
          "data": {
            "text/plain": [
              "<Figure size 720x504 with 1 Axes>"
            ],
            "image/png": "[encoded data removed]"
          },
          "metadata": {}
        }
      ]
    },
    {
      "cell_type": "markdown",
      "source": [
        "### **Step 3.2: Income Distribution by Education and Gender** \n",
        "\n"
      ],
      "metadata": {
        "id": "M5Swsvu7QUWu"
      }
    },
    {
      "cell_type": "markdown",
      "source": [
        "Next, we sought to see the education level achieved by the highest-earning applicants and also see how that is related to gender.\n",
        "\n",
        "From the plot, we learnt that the majority of loan applicants have at least an academic degree\n"
      ],
      "metadata": {
        "id": "SrzD6cT4ug06"
      }
    },
    {
      "cell_type": "code",
      "source": [
        "income_education_df = application_cleaned_df[['GENDER', 'INCOME', 'EDUCATION']]\n",
        "grouped_income_education_df = income_education_df.groupby(['GENDER', 'EDUCATION']).mean().reset_index()\n",
        "plt.title(\"Income Distribution by Education and Gender\", fontsize=30)\n",
        "sns.set(rc = {'figure.figsize':(10,7)})\n",
        "sns.barplot(x = 'EDUCATION',\n",
        "            y = 'INCOME',\n",
        "            hue = 'GENDER',\n",
        "            data = grouped_income_education_df)"
      ],
      "metadata": {
        "colab": {
          "base_uri": "https://localhost:8080/",
          "height": 495
        },
        "id": "54ERWiV7C-ev",
        "outputId": "0b090f28-3697-4253-b5ba-d9dca6768dd3"
      },
      "execution_count": null,
      "outputs": [
        {
          "output_type": "execute_result",
          "data": {
            "text/plain": [
              "<matplotlib.axes._subplots.AxesSubplot at 0x7fb1a3483310>"
            ]
          },
          "metadata": {},
          "execution_count": 22
        },
        {
          "output_type": "display_data",
          "data": {
            "text/plain": [
              "<Figure size 720x504 with 1 Axes>"
            ],
            "image/png": "[encoded data removed]"
          },
          "metadata": {}
        }
      ]
    },
    {
      "cell_type": "markdown",
      "source": [
        "# **Step 4: Modeling**"
      ],
      "metadata": {
        "id": "unwNq9d2Ttwx"
      }
    },
    {
      "cell_type": "markdown",
      "source": [
        "### **Step 4.1.1: Label Encoding** "
      ],
      "metadata": {
        "id": "VfTa_vSnRXIr"
      }
    },
    {
      "cell_type": "code",
      "source": [
        "application_cleaned_df['education_label'] = LabelEncoder().fit_transform(application_cleaned_df['EDUCATION'])\n",
        "application_cleaned_df['gender_label'] = LabelEncoder().fit_transform(application_cleaned_df['GENDER'])\n",
        "application_cleaned_df['occupation_label'] = LabelEncoder().fit_transform(application_cleaned_df['OCCUPATION_TYPE'])\n",
        "application_cleaned_df['housing_label'] = LabelEncoder().fit_transform(application_cleaned_df['HOUSING_TYPE'])\n",
        "application_cleaned_df['marriage_label'] = LabelEncoder().fit_transform(application_cleaned_df['NAME_FAMILY_STATUS'])\n",
        "application_cleaned_df['income_label'] = LabelEncoder().fit_transform(application_cleaned_df['INCOME_TYPE'])\n",
        "application_cleaned_df['own_realty_label'] = LabelEncoder().fit_transform(application_cleaned_df['FLAG_OWN_REALTY'])\n",
        "application_cleaned_df['own_car_label'] = LabelEncoder().fit_transform(application_cleaned_df['FLAG_OWN_CAR'])\n"
      ],
      "metadata": {
        "id": "h-rxhSLRRntw"
      },
      "execution_count": null,
      "outputs": []
    },
    {
      "cell_type": "markdown",
      "source": [
        "We will now predict a person's debt status. If the loan is paid-off or no loan is taken, then status_label is 0 (no debt).\n",
        "If there is a overdue balance of age greater than 1 day, then status_label is 1 (there is debt). For each person, there is information on their status for multiple months. Therefore, we will group the credit_record_df dataset by ID and take the most frequent status for each ID as the debt status of that ID."
      ],
      "metadata": {
        "id": "As0GMw45yuO0"
      }
    },
    {
      "cell_type": "code",
      "source": [
        "def encode_status(x):\n",
        "  if x >= 6:\n",
        "    return 0\n",
        "  else:\n",
        "    return 1\n",
        "\n",
        "credit_record_df['status_label'] = credit_record_df['STATUS'].apply(lambda x: encode_status(x))\n",
        "\n",
        "### find the most common status for each person\n",
        "credit_most_freq_status = credit_record_df[['ID', 'status_label']].groupby('ID').apply(pd.DataFrame.mode).reset_index(drop=True)\n"
      ],
      "metadata": {
        "id": "4Zr8RHgvwemV"
      },
      "execution_count": null,
      "outputs": []
    },
    {
      "cell_type": "markdown",
      "source": [
        "Merge the two encoded datasets."
      ],
      "metadata": {
        "id": "wZVEcMGgqBAk"
      }
    },
    {
      "cell_type": "code",
      "source": [
        "merged_credit_info = application_cleaned_df.merge(credit_most_freq_status, how='inner', left_on = 'ID', right_on = 'ID')\n",
        "merged_credit_ml_df = merged_credit_info[[ 'gender_label','CNT_CHILDREN','INCOME', 'AGE', 'CNT_FAM_MEMBERS', 'YEARS_EMPLOYED', 'education_label', 'occupation_label', 'housing_label', 'marriage_label', 'income_label', 'own_realty_label', 'own_car_label', 'status_label']]\n"
      ],
      "metadata": {
        "id": "WSAs7Ds7kybg"
      },
      "execution_count": null,
      "outputs": []
    },
    {
      "cell_type": "markdown",
      "source": [
        "###**Step 4.1.2: Correlation of Feature Variables** "
      ],
      "metadata": {
        "id": "Xj4K4txYeZKo"
      }
    },
    {
      "cell_type": "markdown",
      "source": [
        "We will check for correlation between our features since some of the models were are going to use won't work well if we have strong multicollinearity"
      ],
      "metadata": {
        "id": "45JNpQiUc2Mh"
      }
    },
    {
      "cell_type": "code",
      "source": [
        "corr_matrix = merged_credit_ml_df.corr()\n",
        "\n",
        "sns.set(rc = {'figure.figsize':(12,9)})\n",
        "heatmp = sns.heatmap(corr_matrix, vmin=-1, vmax=1, cmap=\"RdBu\", cbar_kws={'label': 'Correlation Scale'})\n",
        "heatmp.set_title(\"Correlation Heatmap of the features in merged_credit_ml_df\")"
      ],
      "metadata": {
        "colab": {
          "base_uri": "https://localhost:8080/",
          "height": 675
        },
        "id": "26w9EYWsc3NZ",
        "outputId": "f3da7afb-8ea8-4f07-a2b4-70d531862287"
      },
      "execution_count": null,
      "outputs": [
        {
          "output_type": "execute_result",
          "data": {
            "text/plain": [
              "Text(0.5, 1.0, 'Correlation Heatmap of the features in merged_credit_ml_df')"
            ]
          },
          "metadata": {},
          "execution_count": 26
        },
        {
          "output_type": "display_data",
          "data": {
            "text/plain": [
              "<Figure size 864x648 with 2 Axes>"
            ],
            "image/png": "[encoded data removed]"
          },
          "metadata": {}
        }
      ]
    },
    {
      "cell_type": "code",
      "source": [
        "merged_credit_info"
      ],
      "metadata": {
        "colab": {
          "base_uri": "https://localhost:8080/",
          "height": 765
        },
        "id": "9Xlk4lrrTb4o",
        "outputId": "9eab9ee3-cf94-416a-b199-0e03e722fd41"
      },
      "execution_count": null,
      "outputs": [
        {
          "output_type": "execute_result",
          "data": {
            "text/plain": [
              "            ID GENDER FLAG_OWN_CAR FLAG_OWN_REALTY  CNT_CHILDREN    INCOME  \\\n",
              "0      5008804      M            Y               Y             0  427500.0   \n",
              "1      5008805      M            Y               Y             0  427500.0   \n",
              "2      5008806      M            Y               Y             0  112500.0   \n",
              "3      5008808      F            N               Y             0  270000.0   \n",
              "4      5008809      F            N               Y             0  270000.0   \n",
              "...        ...    ...          ...             ...           ...       ...   \n",
              "36452  5149828      M            Y               Y             0  315000.0   \n",
              "36453  5149834      F            N               Y             0  157500.0   \n",
              "36454  5149838      F            N               Y             0  157500.0   \n",
              "36455  5150049      F            N               Y             0  283500.0   \n",
              "36456  5150337      M            N               Y             0  112500.0   \n",
              "\n",
              "                INCOME_TYPE                      EDUCATION NAME_FAMILY_STATUS  \\\n",
              "0                   Working               Higher education     Civil marriage   \n",
              "1                   Working               Higher education     Civil marriage   \n",
              "2                   Working  Secondary / secondary special            Married   \n",
              "3      Commercial associate  Secondary / secondary special             Single   \n",
              "4      Commercial associate  Secondary / secondary special             Single   \n",
              "...                     ...                            ...                ...   \n",
              "36452               Working  Secondary / secondary special            Married   \n",
              "36453  Commercial associate               Higher education            Married   \n",
              "36454             Pensioner               Higher education            Married   \n",
              "36455               Working  Secondary / secondary special            Married   \n",
              "36456               Working  Secondary / secondary special             Single   \n",
              "\n",
              "           HOUSING_TYPE  ...  YEARS_EMPLOYED  education_label  gender_label  \\\n",
              "0      Rented apartment  ...              12                1             1   \n",
              "1      Rented apartment  ...              12                1             1   \n",
              "2                 House  ...               3                4             1   \n",
              "3                 House  ...               8                4             0   \n",
              "4                 House  ...               8                4             0   \n",
              "...                 ...  ...             ...              ...           ...   \n",
              "36452             House  ...               7                4             1   \n",
              "36453             House  ...               4                1             0   \n",
              "36454             House  ...               4                1             0   \n",
              "36455             House  ...               2                4             0   \n",
              "36456  Rented apartment  ...               3                4             1   \n",
              "\n",
              "       occupation_label housing_label  marriage_label  income_label  \\\n",
              "0                    17             4               0             4   \n",
              "1                    17             4               0             4   \n",
              "2                    16             1               1             4   \n",
              "3                    14             1               3             0   \n",
              "4                    14             1               3             0   \n",
              "...                 ...           ...             ...           ...   \n",
              "36452                10             1               1             4   \n",
              "36453                11             1               1             0   \n",
              "36454                11             1               1             1   \n",
              "36455                14             1               1             4   \n",
              "36456                 8             4               3             4   \n",
              "\n",
              "       own_realty_label  own_car_label  status_label  \n",
              "0                     1              1             0  \n",
              "1                     1              1             0  \n",
              "2                     1              1             0  \n",
              "3                     1              0             0  \n",
              "4                     1              0             0  \n",
              "...                 ...            ...           ...  \n",
              "36452                 1              1             0  \n",
              "36453                 1              0             1  \n",
              "36454                 1              0             1  \n",
              "36455                 1              0             1  \n",
              "36456                 1              0             1  \n",
              "\n",
              "[36457 rows x 27 columns]"
            ],
            "text/html": [
              "\n",
              "  <div id=\"df-688cfd5e-c2e6-4118-ac06-b0bb0a97aa9d\">\n",
              "    <div class=\"colab-df-container\">\n",
              "      <div>\n",
              "<style scoped>\n",
              "    .dataframe tbody tr th:only-of-type {\n",
              "        vertical-align: middle;\n",
              "    }\n",
              "\n",
              "    .dataframe tbody tr th {\n",
              "        vertical-align: top;\n",
              "    }\n",
              "\n",
              "    .dataframe thead th {\n",
              "        text-align: right;\n",
              "    }\n",
              "</style>\n",
              "<table border=\"1\" class=\"dataframe\">\n",
              "  <thead>\n",
              "    <tr style=\"text-align: right;\">\n",
              "      <th></th>\n",
              "      <th>ID</th>\n",
              "      <th>GENDER</th>\n",
              "      <th>FLAG_OWN_CAR</th>\n",
              "      <th>FLAG_OWN_REALTY</th>\n",
              "      <th>CNT_CHILDREN</th>\n",
              "      <th>INCOME</th>\n",
              "      <th>INCOME_TYPE</th>\n",
              "      <th>EDUCATION</th>\n",
              "      <th>NAME_FAMILY_STATUS</th>\n",
              "      <th>HOUSING_TYPE</th>\n",
              "      <th>...</th>\n",
              "      <th>YEARS_EMPLOYED</th>\n",
              "      <th>education_label</th>\n",
              "      <th>gender_label</th>\n",
              "      <th>occupation_label</th>\n",
              "      <th>housing_label</th>\n",
              "      <th>marriage_label</th>\n",
              "      <th>income_label</th>\n",
              "      <th>own_realty_label</th>\n",
              "      <th>own_car_label</th>\n",
              "      <th>status_label</th>\n",
              "    </tr>\n",
              "  </thead>\n",
              "  <tbody>\n",
              "    <tr>\n",
              "      <th>0</th>\n",
              "      <td>5008804</td>\n",
              "      <td>M</td>\n",
              "      <td>Y</td>\n",
              "      <td>Y</td>\n",
              "      <td>0</td>\n",
              "      <td>427500.0</td>\n",
              "      <td>Working</td>\n",
              "      <td>Higher education</td>\n",
              "      <td>Civil marriage</td>\n",
              "      <td>Rented apartment</td>\n",
              "      <td>...</td>\n",
              "      <td>12</td>\n",
              "      <td>1</td>\n",
              "      <td>1</td>\n",
              "      <td>17</td>\n",
              "      <td>4</td>\n",
              "      <td>0</td>\n",
              "      <td>4</td>\n",
              "      <td>1</td>\n",
              "      <td>1</td>\n",
              "      <td>0</td>\n",
              "    </tr>\n",
              "    <tr>\n",
              "      <th>1</th>\n",
              "      <td>5008805</td>\n",
              "      <td>M</td>\n",
              "      <td>Y</td>\n",
              "      <td>Y</td>\n",
              "      <td>0</td>\n",
              "      <td>427500.0</td>\n",
              "      <td>Working</td>\n",
              "      <td>Higher education</td>\n",
              "      <td>Civil marriage</td>\n",
              "      <td>Rented apartment</td>\n",
              "      <td>...</td>\n",
              "      <td>12</td>\n",
              "      <td>1</td>\n",
              "      <td>1</td>\n",
              "      <td>17</td>\n",
              "      <td>4</td>\n",
              "      <td>0</td>\n",
              "      <td>4</td>\n",
              "      <td>1</td>\n",
              "      <td>1</td>\n",
              "      <td>0</td>\n",
              "    </tr>\n",
              "    <tr>\n",
              "      <th>2</th>\n",
              "      <td>5008806</td>\n",
              "      <td>M</td>\n",
              "      <td>Y</td>\n",
              "      <td>Y</td>\n",
              "      <td>0</td>\n",
              "      <td>112500.0</td>\n",
              "      <td>Working</td>\n",
              "      <td>Secondary / secondary special</td>\n",
              "      <td>Married</td>\n",
              "      <td>House</td>\n",
              "      <td>...</td>\n",
              "      <td>3</td>\n",
              "      <td>4</td>\n",
              "      <td>1</td>\n",
              "      <td>16</td>\n",
              "      <td>1</td>\n",
              "      <td>1</td>\n",
              "      <td>4</td>\n",
              "      <td>1</td>\n",
              "      <td>1</td>\n",
              "      <td>0</td>\n",
              "    </tr>\n",
              "    <tr>\n",
              "      <th>3</th>\n",
              "      <td>5008808</td>\n",
              "      <td>F</td>\n",
              "      <td>N</td>\n",
              "      <td>Y</td>\n",
              "      <td>0</td>\n",
              "      <td>270000.0</td>\n",
              "      <td>Commercial associate</td>\n",
              "      <td>Secondary / secondary special</td>\n",
              "      <td>Single</td>\n",
              "      <td>House</td>\n",
              "      <td>...</td>\n",
              "      <td>8</td>\n",
              "      <td>4</td>\n",
              "      <td>0</td>\n",
              "      <td>14</td>\n",
              "      <td>1</td>\n",
              "      <td>3</td>\n",
              "      <td>0</td>\n",
              "      <td>1</td>\n",
              "      <td>0</td>\n",
              "      <td>0</td>\n",
              "    </tr>\n",
              "    <tr>\n",
              "      <th>4</th>\n",
              "      <td>5008809</td>\n",
              "      <td>F</td>\n",
              "      <td>N</td>\n",
              "      <td>Y</td>\n",
              "      <td>0</td>\n",
              "      <td>270000.0</td>\n",
              "      <td>Commercial associate</td>\n",
              "      <td>Secondary / secondary special</td>\n",
              "      <td>Single</td>\n",
              "      <td>House</td>\n",
              "      <td>...</td>\n",
              "      <td>8</td>\n",
              "      <td>4</td>\n",
              "      <td>0</td>\n",
              "      <td>14</td>\n",
              "      <td>1</td>\n",
              "      <td>3</td>\n",
              "      <td>0</td>\n",
              "      <td>1</td>\n",
              "      <td>0</td>\n",
              "      <td>0</td>\n",
              "    </tr>\n",
              "    <tr>\n",
              "      <th>...</th>\n",
              "      <td>...</td>\n",
              "      <td>...</td>\n",
              "      <td>...</td>\n",
              "      <td>...</td>\n",
              "      <td>...</td>\n",
              "      <td>...</td>\n",
              "      <td>...</td>\n",
              "      <td>...</td>\n",
              "      <td>...</td>\n",
              "      <td>...</td>\n",
              "      <td>...</td>\n",
              "      <td>...</td>\n",
              "      <td>...</td>\n",
              "      <td>...</td>\n",
              "      <td>...</td>\n",
              "      <td>...</td>\n",
              "      <td>...</td>\n",
              "      <td>...</td>\n",
              "      <td>...</td>\n",
              "      <td>...</td>\n",
              "      <td>...</td>\n",
              "    </tr>\n",
              "    <tr>\n",
              "      <th>36452</th>\n",
              "      <td>5149828</td>\n",
              "      <td>M</td>\n",
              "      <td>Y</td>\n",
              "      <td>Y</td>\n",
              "      <td>0</td>\n",
              "      <td>315000.0</td>\n",
              "      <td>Working</td>\n",
              "      <td>Secondary / secondary special</td>\n",
              "      <td>Married</td>\n",
              "      <td>House</td>\n",
              "      <td>...</td>\n",
              "      <td>7</td>\n",
              "      <td>4</td>\n",
              "      <td>1</td>\n",
              "      <td>10</td>\n",
              "      <td>1</td>\n",
              "      <td>1</td>\n",
              "      <td>4</td>\n",
              "      <td>1</td>\n",
              "      <td>1</td>\n",
              "      <td>0</td>\n",
              "    </tr>\n",
              "    <tr>\n",
              "      <th>36453</th>\n",
              "      <td>5149834</td>\n",
              "      <td>F</td>\n",
              "      <td>N</td>\n",
              "      <td>Y</td>\n",
              "      <td>0</td>\n",
              "      <td>157500.0</td>\n",
              "      <td>Commercial associate</td>\n",
              "      <td>Higher education</td>\n",
              "      <td>Married</td>\n",
              "      <td>House</td>\n",
              "      <td>...</td>\n",
              "      <td>4</td>\n",
              "      <td>1</td>\n",
              "      <td>0</td>\n",
              "      <td>11</td>\n",
              "      <td>1</td>\n",
              "      <td>1</td>\n",
              "      <td>0</td>\n",
              "      <td>1</td>\n",
              "      <td>0</td>\n",
              "      <td>1</td>\n",
              "    </tr>\n",
              "    <tr>\n",
              "      <th>36454</th>\n",
              "      <td>5149838</td>\n",
              "      <td>F</td>\n",
              "      <td>N</td>\n",
              "      <td>Y</td>\n",
              "      <td>0</td>\n",
              "      <td>157500.0</td>\n",
              "      <td>Pensioner</td>\n",
              "      <td>Higher education</td>\n",
              "      <td>Married</td>\n",
              "      <td>House</td>\n",
              "      <td>...</td>\n",
              "      <td>4</td>\n",
              "      <td>1</td>\n",
              "      <td>0</td>\n",
              "      <td>11</td>\n",
              "      <td>1</td>\n",
              "      <td>1</td>\n",
              "      <td>1</td>\n",
              "      <td>1</td>\n",
              "      <td>0</td>\n",
              "      <td>1</td>\n",
              "    </tr>\n",
              "    <tr>\n",
              "      <th>36455</th>\n",
              "      <td>5150049</td>\n",
              "      <td>F</td>\n",
              "      <td>N</td>\n",
              "      <td>Y</td>\n",
              "      <td>0</td>\n",
              "      <td>283500.0</td>\n",
              "      <td>Working</td>\n",
              "      <td>Secondary / secondary special</td>\n",
              "      <td>Married</td>\n",
              "      <td>House</td>\n",
              "      <td>...</td>\n",
              "      <td>2</td>\n",
              "      <td>4</td>\n",
              "      <td>0</td>\n",
              "      <td>14</td>\n",
              "      <td>1</td>\n",
              "      <td>1</td>\n",
              "      <td>4</td>\n",
              "      <td>1</td>\n",
              "      <td>0</td>\n",
              "      <td>1</td>\n",
              "    </tr>\n",
              "    <tr>\n",
              "      <th>36456</th>\n",
              "      <td>5150337</td>\n",
              "      <td>M</td>\n",
              "      <td>N</td>\n",
              "      <td>Y</td>\n",
              "      <td>0</td>\n",
              "      <td>112500.0</td>\n",
              "      <td>Working</td>\n",
              "      <td>Secondary / secondary special</td>\n",
              "      <td>Single</td>\n",
              "      <td>Rented apartment</td>\n",
              "      <td>...</td>\n",
              "      <td>3</td>\n",
              "      <td>4</td>\n",
              "      <td>1</td>\n",
              "      <td>8</td>\n",
              "      <td>4</td>\n",
              "      <td>3</td>\n",
              "      <td>4</td>\n",
              "      <td>1</td>\n",
              "      <td>0</td>\n",
              "      <td>1</td>\n",
              "    </tr>\n",
              "  </tbody>\n",
              "</table>\n",
              "<p>36457 rows × 27 columns</p>\n",
              "</div>\n",
              "      <button class=\"colab-df-convert\" onclick=\"convertToInteractive('df-688cfd5e-c2e6-4118-ac06-b0bb0a97aa9d')\"\n",
              "              title=\"Convert this dataframe to an interactive table.\"\n",
              "              style=\"display:none;\">\n",
              "        \n",
              "  <svg xmlns=\"http://www.w3.org/2000/svg\" height=\"24px\"viewBox=\"0 0 24 24\"\n",
              "       width=\"24px\">\n",
              "    <path d=\"M0 0h24v24H0V0z\" fill=\"none\"/>\n",
              "    <path d=\"M18.56 5.44l.94 2.06.94-2.06 2.06-.94-2.06-.94-.94-2.06-.94 2.06-2.06.94zm-11 1L8.5 8.5l.94-2.06 2.06-.94-2.06-.94L8.5 2.5l-.94 2.06-2.06.94zm10 10l.94 2.06.94-2.06 2.06-.94-2.06-.94-.94-2.06-.94 2.06-2.06.94z\"/><path d=\"M17.41 7.96l-1.37-1.37c-.4-.4-.92-.59-1.43-.59-.52 0-1.04.2-1.43.59L10.3 9.45l-7.72 7.72c-.78.78-.78 2.05 0 2.83L4 21.41c.39.39.9.59 1.41.59.51 0 1.02-.2 1.41-.59l7.78-7.78 2.81-2.81c.8-.78.8-2.07 0-2.86zM5.41 20L4 18.59l7.72-7.72 1.47 1.35L5.41 20z\"/>\n",
              "  </svg>\n",
              "      </button>\n",
              "      \n",
              "  <style>\n",
              "    .colab-df-container {\n",
              "      display:flex;\n",
              "      flex-wrap:wrap;\n",
              "      gap: 12px;\n",
              "    }\n",
              "\n",
              "    .colab-df-convert {\n",
              "      background-color: #E8F0FE;\n",
              "      border: none;\n",
              "      border-radius: 50%;\n",
              "      cursor: pointer;\n",
              "      display: none;\n",
              "      fill: #1967D2;\n",
              "      height: 32px;\n",
              "      padding: 0 0 0 0;\n",
              "      width: 32px;\n",
              "    }\n",
              "\n",
              "    .colab-df-convert:hover {\n",
              "      background-color: #E2EBFA;\n",
              "      box-shadow: 0px 1px 2px rgba(60, 64, 67, 0.3), 0px 1px 3px 1px rgba(60, 64, 67, 0.15);\n",
              "      fill: #174EA6;\n",
              "    }\n",
              "\n",
              "    [theme=dark] .colab-df-convert {\n",
              "      background-color: #3B4455;\n",
              "      fill: #D2E3FC;\n",
              "    }\n",
              "\n",
              "    [theme=dark] .colab-df-convert:hover {\n",
              "      background-color: #434B5C;\n",
              "      box-shadow: 0px 1px 3px 1px rgba(0, 0, 0, 0.15);\n",
              "      filter: drop-shadow(0px 1px 2px rgba(0, 0, 0, 0.3));\n",
              "      fill: #FFFFFF;\n",
              "    }\n",
              "  </style>\n",
              "\n",
              "      <script>\n",
              "        const buttonEl =\n",
              "          document.querySelector('#df-688cfd5e-c2e6-4118-ac06-b0bb0a97aa9d button.colab-df-convert');\n",
              "        buttonEl.style.display =\n",
              "          google.colab.kernel.accessAllowed ? 'block' : 'none';\n",
              "\n",
              "        async function convertToInteractive(key) {\n",
              "          const element = document.querySelector('#df-688cfd5e-c2e6-4118-ac06-b0bb0a97aa9d');\n",
              "          const dataTable =\n",
              "            await google.colab.kernel.invokeFunction('convertToInteractive',\n",
              "                                                     [key], {});\n",
              "          if (!dataTable) return;\n",
              "\n",
              "          const docLinkHtml = 'Like what you see? Visit the ' +\n",
              "            '<a target=\"_blank\" href=https://colab.research.google.com/notebooks/data_table.ipynb>data table notebook</a>'\n",
              "            + ' to learn more about interactive tables.';\n",
              "          element.innerHTML = '';\n",
              "          dataTable['output_type'] = 'display_data';\n",
              "          await google.colab.output.renderOutput(dataTable, element);\n",
              "          const docLink = document.createElement('div');\n",
              "          docLink.innerHTML = docLinkHtml;\n",
              "          element.appendChild(docLink);\n",
              "        }\n",
              "      </script>\n",
              "    </div>\n",
              "  </div>\n",
              "  "
            ]
          },
          "metadata": {},
          "execution_count": 27
        }
      ]
    },
    {
      "cell_type": "markdown",
      "source": [
        "### **Step 4.2: Classification Models** "
      ],
      "metadata": {
        "id": "gjApTQu9p6ON"
      }
    },
    {
      "cell_type": "markdown",
      "source": [
        "Create spark dataframe from the merged pandas dataframe."
      ],
      "metadata": {
        "id": "eG9_lV9C0-kO"
      }
    },
    {
      "cell_type": "code",
      "source": [
        "merged_credit_sdf = spark.createDataFrame(merged_credit_ml_df) \n",
        "merged_credit_sdf.printSchema()"
      ],
      "metadata": {
        "colab": {
          "base_uri": "https://localhost:8080/"
        },
        "id": "EXV-yB3GTzUE",
        "outputId": "8b5c3eda-24db-4633-cef8-68f7095111ac"
      },
      "execution_count": null,
      "outputs": [
        {
          "output_type": "stream",
          "name": "stdout",
          "text": [
            "root\n",
            " |-- gender_label: long (nullable = true)\n",
            " |-- CNT_CHILDREN: long (nullable = true)\n",
            " |-- INCOME: double (nullable = true)\n",
            " |-- AGE: long (nullable = true)\n",
            " |-- CNT_FAM_MEMBERS: double (nullable = true)\n",
            " |-- YEARS_EMPLOYED: long (nullable = true)\n",
            " |-- education_label: long (nullable = true)\n",
            " |-- occupation_label: long (nullable = true)\n",
            " |-- housing_label: long (nullable = true)\n",
            " |-- marriage_label: long (nullable = true)\n",
            " |-- income_label: long (nullable = true)\n",
            " |-- own_realty_label: long (nullable = true)\n",
            " |-- own_car_label: long (nullable = true)\n",
            " |-- status_label: long (nullable = true)\n",
            "\n"
          ]
        }
      ]
    },
    {
      "cell_type": "code",
      "source": [
        "all_columns = merged_credit_sdf.schema.names\n",
        "drop_columns = ['status_label']\n",
        "columns_to_use = [col for col in all_columns if col not in drop_columns]"
      ],
      "metadata": {
        "id": "QcXcyGfvRbZ9"
      },
      "execution_count": null,
      "outputs": []
    },
    {
      "cell_type": "code",
      "source": [
        "#create a vector assembler\n",
        "from pyspark.ml.feature import VectorAssembler\n",
        "\n",
        "assembler = VectorAssembler(inputCols = columns_to_use, outputCol = \"features\")"
      ],
      "metadata": {
        "id": "nP92xIhmgTU8"
      },
      "execution_count": null,
      "outputs": []
    },
    {
      "cell_type": "markdown",
      "source": [
        "**Single stage pipeline**"
      ],
      "metadata": {
        "id": "Y_X-pYvqVtSZ"
      }
    },
    {
      "cell_type": "markdown",
      "source": [
        "Create a pipeline and fit the dataset."
      ],
      "metadata": {
        "id": "WL1caunI1eU0"
      }
    },
    {
      "cell_type": "code",
      "source": [
        "from pyspark.ml import Pipeline\n",
        "\n",
        "pipe  = Pipeline(stages = [assembler])\n",
        "modified_data_sdf = pipe.fit(merged_credit_sdf).transform(merged_credit_sdf)"
      ],
      "metadata": {
        "id": "RqGcKt8bVw7D"
      },
      "execution_count": null,
      "outputs": []
    },
    {
      "cell_type": "code",
      "source": [
        "train_sdf, test_sdf = modified_data_sdf.randomSplit([0.8, 0.2], seed = 24)"
      ],
      "metadata": {
        "id": "WTxaUrAxWB7v"
      },
      "execution_count": null,
      "outputs": []
    },
    {
      "cell_type": "markdown",
      "source": [
        "## **4.3.1: Unregularized Logistic Regression**"
      ],
      "metadata": {
        "id": "IUDZ-treW5RH"
      }
    },
    {
      "cell_type": "code",
      "source": [
        "from pyspark.ml.classification import LogisticRegression\n",
        "\n",
        "logit = LogisticRegression(featuresCol = \"features\", labelCol = \"status_label\", elasticNetParam=1)\n",
        "logit = logit.fit(train_sdf);\n",
        "\n",
        "predictions_train = logit.transform(train_sdf)\n",
        "predictions_test = logit.transform(test_sdf)"
      ],
      "metadata": {
        "id": "PeMJD3UjW9r1"
      },
      "execution_count": null,
      "outputs": []
    },
    {
      "cell_type": "markdown",
      "source": [
        "Evaluation of the regression model using BinaryClassificationEvaluator"
      ],
      "metadata": {
        "id": "ZNsx2ah6XlxB"
      }
    },
    {
      "cell_type": "code",
      "source": [
        "from pyspark.ml.evaluation import BinaryClassificationEvaluator\n",
        "\n",
        "evaluator = BinaryClassificationEvaluator(rawPredictionCol='prediction', labelCol='status_label')\n",
        "training_accuracy = evaluator.evaluate(predictions_train) \n",
        "test_accuracy = evaluator.evaluate(predictions_test) \n",
        "test_area_log = evaluator.evaluate(predictions_test, {evaluator.metricName: \"areaUnderROC\"})"
      ],
      "metadata": {
        "id": "VhM3EOJTX4Py"
      },
      "execution_count": null,
      "outputs": []
    },
    {
      "cell_type": "code",
      "source": [
        "training_accuracy"
      ],
      "metadata": {
        "colab": {
          "base_uri": "https://localhost:8080/"
        },
        "id": "qvb8KRCtYms5",
        "outputId": "2674c361-76d5-4f9a-a80c-d4e27a4eb9f8"
      },
      "execution_count": null,
      "outputs": [
        {
          "output_type": "execute_result",
          "data": {
            "text/plain": [
              "0.5016156073809632"
            ]
          },
          "metadata": {},
          "execution_count": 37
        }
      ]
    },
    {
      "cell_type": "code",
      "source": [
        "test_accuracy"
      ],
      "metadata": {
        "colab": {
          "base_uri": "https://localhost:8080/"
        },
        "id": "4VKZukXHCqiV",
        "outputId": "7398247f-ece8-40b2-81b7-48462b66548c"
      },
      "execution_count": null,
      "outputs": [
        {
          "output_type": "execute_result",
          "data": {
            "text/plain": [
              "0.5006611403809078"
            ]
          },
          "metadata": {},
          "execution_count": 38
        }
      ]
    },
    {
      "cell_type": "markdown",
      "source": [
        "## **Step 4.3.2: Random Forest**\n"
      ],
      "metadata": {
        "id": "IUqk-4VybtLi"
      }
    },
    {
      "cell_type": "code",
      "source": [
        "from pyspark.ml.classification import RandomForestClassifier\n",
        "from pyspark.ml.feature import StringIndexer\n",
        "\n",
        "# TO-DO: Instantiate and fit RF Model to training data\n",
        "rf = RandomForestClassifier(featuresCol = \"features\", labelCol = \"status_label\", numTrees = 128, maxDepth = 16)\n",
        "rf = rf.fit(train_sdf)"
      ],
      "metadata": {
        "id": "F8f2ZSzzb2xw"
      },
      "execution_count": null,
      "outputs": []
    },
    {
      "cell_type": "markdown",
      "source": [
        "Prediction on test and train datasets"
      ],
      "metadata": {
        "id": "Kgn2UaEe3sh6"
      }
    },
    {
      "cell_type": "code",
      "source": [
        "train_pred = rf.transform(train_sdf)\n",
        "test_pred = rf.transform(test_sdf)"
      ],
      "metadata": {
        "id": "84H3TinScAXo"
      },
      "execution_count": null,
      "outputs": []
    },
    {
      "cell_type": "markdown",
      "source": [
        "Evaluation using Areas Under the ROC curve"
      ],
      "metadata": {
        "id": "yde6rwi930NA"
      }
    },
    {
      "cell_type": "code",
      "source": [
        "evaluator = BinaryClassificationEvaluator(rawPredictionCol='prediction', labelCol='status_label')\n",
        "train_area = evaluator.evaluate(train_pred, {evaluator.metricName: \"areaUnderROC\"})\n",
        "test_area = evaluator.evaluate(test_pred, {evaluator.metricName: \"areaUnderROC\"})"
      ],
      "metadata": {
        "id": "IPrRgtFhcDGI"
      },
      "execution_count": null,
      "outputs": []
    },
    {
      "cell_type": "code",
      "source": [
        "print(\"train area:\", train_area)\n",
        "print(\"test area:\", test_area)"
      ],
      "metadata": {
        "colab": {
          "base_uri": "https://localhost:8080/"
        },
        "id": "bdGRbZI4cTzF",
        "outputId": "809156e7-3cb9-46ab-c652-7cfa4a66461d"
      },
      "execution_count": null,
      "outputs": [
        {
          "output_type": "stream",
          "name": "stdout",
          "text": [
            "train area: 0.7586786914233249\n",
            "test area: 0.6372603984271252\n"
          ]
        }
      ]
    },
    {
      "cell_type": "markdown",
      "source": [
        "## **Step 4.3.2: OLS (Ordinary Least Squares) Linear Regression**"
      ],
      "metadata": {
        "id": "XcTpZe-KXzdv"
      }
    },
    {
      "cell_type": "markdown",
      "source": [
        "### **a) Split data into Train and Test**"
      ],
      "metadata": {
        "id": "61eXhqvca92z"
      }
    },
    {
      "cell_type": "code",
      "source": [
        "train_df = train_sdf.toPandas().copy()\n",
        "features = train_df.drop(columns = ['status_label', 'features'])\n",
        "labels = train_df[['status_label']]"
      ],
      "metadata": {
        "colab": {
          "base_uri": "https://localhost:8080/"
        },
        "id": "IoKd7xGtX2RJ",
        "outputId": "26bbf42b-9b73-4410-a87e-590d4b803d11"
      },
      "execution_count": null,
      "outputs": [
        {
          "output_type": "stream",
          "name": "stderr",
          "text": [
            "/usr/local/lib/python3.7/dist-packages/pyspark/sql/pandas/conversion.py:87: UserWarning: toPandas attempted Arrow optimization because 'spark.sql.execution.arrow.pyspark.enabled' is set to true; however, failed by the reason below:\n",
            "  Unsupported type in conversion to Arrow: VectorUDT\n",
            "Attempting non-optimization as 'spark.sql.execution.arrow.pyspark.fallback.enabled' is set to true.\n",
            "  warnings.warn(msg)\n"
          ]
        }
      ]
    },
    {
      "cell_type": "code",
      "source": [
        "from sklearn.model_selection import train_test_split\n",
        "x_train, x_test, y_train, y_test = train_test_split(features, labels, test_size=0.2, random_state=42)"
      ],
      "metadata": {
        "id": "_TJdJLj0YakZ"
      },
      "execution_count": null,
      "outputs": []
    },
    {
      "cell_type": "code",
      "source": [
        "from sklearn.linear_model import LinearRegression\n",
        "linregr = LinearRegression()\n",
        "prem = linregr.fit(x_train, y_train)\n",
        "y_pred = prem.predict(x_test)\n",
        "r_squared_score = prem.score(x_test, y_test)\n"
      ],
      "metadata": {
        "id": "wXNkDcLaYm7u"
      },
      "execution_count": null,
      "outputs": []
    },
    {
      "cell_type": "code",
      "source": [
        "r_squared_score"
      ],
      "metadata": {
        "colab": {
          "base_uri": "https://localhost:8080/"
        },
        "id": "qQBkGjFxYrhl",
        "outputId": "7201349d-f601-4a4b-fe4f-83ddeb29718d"
      },
      "execution_count": null,
      "outputs": [
        {
          "output_type": "execute_result",
          "data": {
            "text/plain": [
              "0.0012034120043734609"
            ]
          },
          "metadata": {},
          "execution_count": 63
        }
      ]
    },
    {
      "cell_type": "markdown",
      "source": [
        "### **b) PCA to Reduce Dimensionality**\n",
        "We will use Principal Component Analysis to reduce the number of dimensions of our features and make predictions"
      ],
      "metadata": {
        "id": "eKGRh9w5bMjt"
      }
    },
    {
      "cell_type": "markdown",
      "source": [
        "_**Initial PCA**_\n",
        "\n",
        "As a first step we instantiate and fit `PCA` from scikit-learn on our training set to determine the number of components to use\n",
        "\n",
        "Because PCA is **not** scale-invariant we have to scale our features"
      ],
      "metadata": {
        "id": "hLbOfi3vbULv"
      }
    },
    {
      "cell_type": "code",
      "source": [
        "# TO-DO: Instantiate and Fit PCA\n",
        "from sklearn.preprocessing import StandardScaler\n",
        "from sklearn.decomposition import PCA\n",
        "\n",
        "x_train_scalar = StandardScaler().fit_transform(x_train)\n",
        "y_train_scalar = StandardScaler().fit_transform(y_train)\n",
        "\n",
        "pca = PCA()\n",
        "x_train_pca = pca.fit_transform(x_train_scalar)"
      ],
      "metadata": {
        "id": "oAGxlle0bYIc"
      },
      "execution_count": null,
      "outputs": []
    },
    {
      "cell_type": "markdown",
      "source": [
        "_**Cumulative Explained Variance Ratios**_\n",
        "\n",
        "We created an array of explained variance ratios and calculated the _cumulative_ explained variance ratios"
      ],
      "metadata": {
        "id": "NyuJu58ebbES"
      }
    },
    {
      "cell_type": "code",
      "source": [
        "explained_variance_ratios = pca.explained_variance_ratio_\n",
        "cum_evr = np.cumsum(explained_variance_ratios)"
      ],
      "metadata": {
        "id": "wo-nUwIubhQI"
      },
      "execution_count": null,
      "outputs": []
    },
    {
      "cell_type": "markdown",
      "source": [
        "Now we plot the _cumulative_ `explained_variance_ratio` against the number of components to decide the number of components to use."
      ],
      "metadata": {
        "id": "oGjpiDCgceAj"
      }
    },
    {
      "cell_type": "code",
      "source": [
        "plt.figure(figsize = (9,4));\n",
        "sns.lineplot(x = np.arange(1,14), y=cum_evr)\n",
        "sns.lineplot(x = np.arange(1,14), y=0.8)\n",
        "plt.title(\"Cumulative explained variance ratio vs Number of principal components\");\n",
        "plt.xlabel(\"Number of principal components\");\n",
        "plt.ylabel(\"Cumulative explained variance ratio\");"
      ],
      "metadata": {
        "colab": {
          "base_uri": "https://localhost:8080/",
          "height": 301
        },
        "id": "LwpxTdfEcg4A",
        "outputId": "892a724c-0855-409f-ac56-4028d2c8ab4d"
      },
      "execution_count": null,
      "outputs": [
        {
          "output_type": "display_data",
          "data": {
            "text/plain": [
              "<Figure size 648x288 with 1 Axes>"
            ],
            "image/png": "[encoded data removed]"
          },
          "metadata": {}
        }
      ]
    },
    {
      "cell_type": "markdown",
      "source": [
        "_**Final PCA**_\n",
        "\n",
        "Using the results above we will take n=8 components that explains **at least 80% of total variance** in the dataset. \n",
        "\n",
        "We will scale our data and fit it into a logistic regression model"
      ],
      "metadata": {
        "id": "L3DB0ivLcqAP"
      }
    },
    {
      "cell_type": "code",
      "source": [
        "from pyspark.ml.feature import PCA \n",
        "from pyspark.ml.feature import StandardScaler\n",
        "from pyspark.ml.classification import LogisticRegression\n",
        "from pyspark.ml.evaluation import BinaryClassificationEvaluator\n",
        "\n",
        "scaler = StandardScaler(inputCol='features', outputCol=\"scaledFeatures\", withStd=False, withMean=True)\n",
        "\n",
        "train_scaledData = scaler.fit(train_sdf).transform(train_sdf)\n",
        "test_scaledData = scaler.fit(train_sdf).transform(test_sdf)\n",
        "\n",
        "\n",
        "pca = PCA(k=10, inputCol = scaler.getOutputCol(), outputCol=\"pcaFeatures\")\n",
        "\n",
        "train_pca = pca.fit(train_scaledData).transform(train_scaledData)\n",
        "test_pca = pca.fit(test_scaledData).transform(test_scaledData)\n",
        "\n",
        "lr = LogisticRegression(featuresCol='pcaFeatures', labelCol='status_label', maxIter=10).fit(train_pca)\n",
        "\n",
        "\n",
        "evaluator = BinaryClassificationEvaluator(labelCol='status_label', rawPredictionCol='rawPrediction')\n",
        "\n",
        "# TO-DO: Evaluate predictions on train and call this \"training_ROC_area_pca\"\n",
        "train_pred = lr.transform(train_pca)\n",
        "training_ROC_area_pca = evaluator.evaluate(train_pred)\n",
        "\n",
        "# TO-DO: Evaluate predictions on test and call this \"test_ROC_area_pca\"\n",
        "test_pred = lr.transform(test_pca)\n",
        "test_ROC_area_pca = evaluator.evaluate(test_pred)\n"
      ],
      "metadata": {
        "id": "o5CvtYZjnPOt"
      },
      "execution_count": null,
      "outputs": []
    },
    {
      "cell_type": "code",
      "source": [
        "training_ROC_area_pca"
      ],
      "metadata": {
        "colab": {
          "base_uri": "https://localhost:8080/"
        },
        "id": "K0Xs-WrX2aHk",
        "outputId": "cdba93f7-6e62-45b8-a2a8-8ab7571530e7"
      },
      "execution_count": null,
      "outputs": [
        {
          "output_type": "execute_result",
          "data": {
            "text/plain": [
              "0.5225907280721517"
            ]
          },
          "metadata": {},
          "execution_count": 54
        }
      ]
    },
    {
      "cell_type": "code",
      "source": [
        "test_ROC_area_pca"
      ],
      "metadata": {
        "colab": {
          "base_uri": "https://localhost:8080/"
        },
        "id": "wNUASV3Q2b8q",
        "outputId": "9915f69d-aab7-4af5-f3ae-b3c535f8bcc3"
      },
      "execution_count": null,
      "outputs": [
        {
          "output_type": "execute_result",
          "data": {
            "text/plain": [
              "0.5195137068936784"
            ]
          },
          "metadata": {},
          "execution_count": 55
        }
      ]
    },
    {
      "cell_type": "markdown",
      "source": [
        "# **Discussion/Conclusion**"
      ],
      "metadata": {
        "id": "I47AmvwG7i3F"
      }
    },
    {
      "cell_type": "markdown",
      "source": [
        "**JUSTIFICATION OF MODELS**"
      ],
      "metadata": {
        "id": "6tOB2x2D8m-A"
      }
    },
    {
      "cell_type": "markdown",
      "source": [
        "A lot of the literature on debt predication, credit predication, and loan approvals uses decision trees and random forests for decison making with a few using K Nearest Neighbours and logistic regression ([ResearchGate](searchgate.net)). To make sure our project was comprehensive we compared how one of the populars models for these kind of tasks fairs against the less popular models and we will also compare how some of the less commonly used models for these kind of tasks perfom. \n",
        "\n",
        "From the popular models, we chose Random Forests and we used it as our baseline model in comparing how the diffrent models perfom. We chose random forests over decison trees despite both of them being popular because Random forests leverage the power of multiple decision trees hence it does not rely on the feature importance given by a single decision tree, and additionaly Random forests are much more suitable for large datasets. From the less popular models used for these tasks we chose Logistic Regression and lastly we chose liner regression from the models that aren't commonly used for these kind of tasks. "
      ],
      "metadata": {
        "id": "IaCfskmG7wfu"
      }
    },
    {
      "cell_type": "markdown",
      "source": [
        "**Results**"
      ],
      "metadata": {
        "id": "pqbCCIM_A94L"
      }
    },
    {
      "cell_type": "markdown",
      "source": [
        "In step 4.2 we fit our data onto an unregularized LASSO logistic regression model which yielded train and test accuracies of around 50%\n",
        "\n",
        "We also used a fit our data onto a Linear Regression model in Step 4.3 and it yielded score of 0.1%\n",
        "\n",
        "Because the performance of a logistic regression is heavily impacted by correlations in the dataset, we corrected for this in step 4.3 when we used PCA to pick the important features of the dataset and refit onto the logistic regression and the train and test accuracies increased to 52%\n",
        "\n",
        "We also fit our data onto a Random Forest model and it yielded a training accuracy of 75.6% and test accuracy of 63.6% "
      ],
      "metadata": {
        "id": "ntwsJjY9CS53"
      }
    },
    {
      "cell_type": "markdown",
      "source": [
        "**Discussion of Results**"
      ],
      "metadata": {
        "id": "RwqxMjvZMXHu"
      }
    },
    {
      "cell_type": "markdown",
      "source": [
        "Our results are in strong consensus with the literature and the practices in industry. We see that linear regresssion yielded a poor score of 0.1% hence why it isn't used for debt prediction indurstry and why the literatre doesn't recommend it.\n",
        "\n",
        "Logistic regression performed much better than linear regression with accuracy score of 50% which even improved to 52% after we corrected for the correlation in our dataset using PCA. \n",
        "\n",
        "Random Forests yielded the best results with training and test acccuracy scores of 75.6% and 63.6% respectively. This explains why the literature and industry favours it more than the other models because it's much more reliable "
      ],
      "metadata": {
        "id": "DCkikQYMMd4S"
      }
    },
    {
      "cell_type": "markdown",
      "source": [
        "**Next Steps**"
      ],
      "metadata": {
        "id": "4hVXOPU0OWCb"
      }
    },
    {
      "cell_type": "markdown",
      "source": [
        "As we saw, Random Forests have better performance than the other models we compared it against but the accuracy scores are still relatively low and if the results are going to be used for important decisions such as deciding who gets a loan or mortagage we want to be certain that our decisions are just and fair to the individuals. As next steps we will explore how we can leverage the more powerful deep learning algorithims and models to improve the accuracy of our predictions. We will also explore and source larger datasets from various sources to make sure that our models are properly trained and can yield reliable results for real world applications. As mentioned in the introduction, we also hope to explore ways in which we can reduce biases that might arise within the datasets leading to unfair treatment of individuals while simultaneously maintaining the integrity of the datasets "
      ],
      "metadata": {
        "id": "xXh7qNB3Oc9K"
      }
    }
  ],
  "metadata": {
    "kernelspec": {
      "display_name": "Python 3",
      "language": "python",
      "name": "python3"
    },
    "language_info": {
      "codemirror_mode": {
        "name": "ipython",
        "version": 3
      },
      "file_extension": ".py",
      "mimetype": "text/x-python",
      "name": "python",
      "nbconvert_exporter": "python",
      "pygments_lexer": "ipython3",
      "version": "3.7.1"
    },
    "colab": {
      "name": "project.ipynb",
      "provenance": [],
      "collapsed_sections": [
        "988wk8C2lWPi",
        "ETZ9CDIDLYHp",
        "fkhXdbFwqC-2",
        "dfjGBhj2nqdx",
        "Yup2Up2muMng",
        "YZ45DgTas9qN",
        "RJworRAXuRHO",
        "zcsRyzKxuBF7",
        "6mqFFIIsycVT",
        "UFs4ElMCy3ON",
        "unwNq9d2Ttwx",
        "eKGRh9w5bMjt"
      ]
    }
  },
  "nbformat": 4,
  "nbformat_minor": 0
}